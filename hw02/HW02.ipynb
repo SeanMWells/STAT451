{
 "cells": [
  {
   "cell_type": "markdown",
   "id": "8163daf4",
   "metadata": {},
   "source": [
    "# HW02: Practice with logistic regression and decision tree\n",
    "\n",
    "Sean Wells smwells3"
   ]
  },
  {
   "cell_type": "markdown",
   "id": "4fdedd9b",
   "metadata": {},
   "source": [
    "## Hello Students:\n",
    "\n",
    "- Start by downloading HW02.ipynb from this folder. Then develop it into your solution.\n",
    "- Write code where you see \"... your code here ...\" below.\n",
    "  (You are welcome to use more than one cell.)\n",
    "- If you have questions, please ask them in class, office hours, or piazza. Our TA\n",
    "  and I are very happy to help with the programming (provided you start early\n",
    "  enough, and provided we are not helping so much that we undermine your learning).\n",
    "- When you are done, run these Notebook commands:\n",
    "  - Shift-L (once, so that line numbers are visible)\n",
    "  - Kernel > Restart and Run All (run all cells from scratch)\n",
    "  - Esc S (save)\n",
    "  - File > Download as > HTML\n",
    "- Turn in:\n",
    "  - HW02.ipynb to Canvas's HW02.ipynb assignment\n",
    "  - HW02.html to Canvas's HW02.html assignment\n",
    "  - As a check, download your files from Canvas to a new 'junk' folder. Try 'Kernel > Restart\n",
    "  and Run All' on the '.ipynb' file to make sure it works. Glance through the '.html' file.\n",
    "- Turn in partial solutions to Canvas before the deadline. e.g. Turn in part 1,\n",
    "  then parts 1 and 2, then your whole solution. That way we can award partial credit\n",
    "  even if you miss the deadline. We will grade your last submission before the deadline."
   ]
  },
  {
   "cell_type": "code",
   "execution_count": 1,
   "id": "f6a87448",
   "metadata": {},
   "outputs": [],
   "source": [
    "import numpy as np\n",
    "import pandas as pd\n",
    "import matplotlib.pyplot as plt\n",
    "from sklearn import linear_model, tree\n",
    "from sklearn.tree import DecisionTreeClassifier"
   ]
  },
  {
   "cell_type": "markdown",
   "id": "f90946b9",
   "metadata": {},
   "source": [
    "# 1. Logistic regression"
   ]
  },
  {
   "cell_type": "markdown",
   "id": "0c5d8fa5",
   "metadata": {},
   "source": [
    "# 1a. Make a logistic regression model\n",
    "relating the probability an iris has Species='virginica' to its 'Petal.Length'\n",
    "and classifying irises as 'virginica' or not 'virginica' (i.e. 'versicolor').\n",
    "- Read [http://www.stat.wisc.edu/~jgillett/451/data/iris.csv](http://www.stat.wisc.edu/~jgillett/451/data/iris.csv) into a DataFrame.\n",
    "- Make a second data frame that excludes the 'setosa' rows (leaving the 'virginica' and 'versicolor' rows) and includes only the Petal.Length and Species columns.\n",
    "- Train the model using $X=$ petal length and $y=$ whether the Species is 'virginica'.\n",
    "  (I used \"y = (df['Species'] == 'virginica').to_numpy().astype(int)\",\n",
    "  which sets y to zeros and ones.)\n",
    "- Report its accuracy on the training data.\n",
    "- Report the estimated P(Species=virginica | Petal.Length=5).\n",
    "- Report the predicited Species for Petal.Length=5.\n",
    "- Make a plot showing:\n",
    "  - the data points\n",
    "  - the estimated logistic curve\n",
    "  - and what I have called the \"sample proportion\" of y == 1 at each unique Petal.Length value\n",
    "  - a legend and title and other labels necessary to make the plot easy to read"
   ]
  },
  {
   "cell_type": "code",
   "execution_count": 2,
   "id": "248a1006",
   "metadata": {},
   "outputs": [],
   "source": [
    "iris = pd.read_csv(\"iris.csv\")"
   ]
  },
  {
   "cell_type": "code",
   "execution_count": 3,
   "id": "c137649f",
   "metadata": {},
   "outputs": [],
   "source": [
    "irissep = iris[[\"Petal.Length\", \"Species\"]].loc[iris[\"Species\"] != \"setosa\"]\n",
    "X = irissep[\"Petal.Length\"].to_numpy().reshape(-1,1)\n",
    "y = (irissep[\"Species\"] == \"virginica\").to_numpy().astype(int)"
   ]
  },
  {
   "cell_type": "code",
   "execution_count": 4,
   "id": "07056abb",
   "metadata": {},
   "outputs": [
    {
     "name": "stdout",
     "output_type": "stream",
     "text": [
      "The training accuracy of the model is 0.93.\n"
     ]
    }
   ],
   "source": [
    "model = linear_model.LogisticRegression(C=1000)\n",
    "model.fit(X=X, y=y)\n",
    "print(f\"The training accuracy of the model is {model.score(X,y):.3}.\")"
   ]
  },
  {
   "cell_type": "code",
   "execution_count": 5,
   "id": "344584ea",
   "metadata": {},
   "outputs": [
    {
     "name": "stdout",
     "output_type": "stream",
     "text": [
      "Our model predicts that a flower with a petal length of 5 has roughly a 77.3% chance of being of the virginica species.\n"
     ]
    }
   ],
   "source": [
    "print(f\"Our model predicts that a flower with a petal length of 5 has roughly a {(model.predict_proba([[5]])[:,1][0]*100):.3}% chance of being of the virginica species.\")"
   ]
  },
  {
   "cell_type": "code",
   "execution_count": 6,
   "id": "c593d158",
   "metadata": {},
   "outputs": [
    {
     "name": "stdout",
     "output_type": "stream",
     "text": [
      "[1]\n",
      "Our model classified a flower with a petal length of 5 as virginica.\n"
     ]
    }
   ],
   "source": [
    "print(model.predict([[5]]))\n",
    "print(\"Our model classified a flower with a petal length of 5 as virginica.\")"
   ]
  },
  {
   "cell_type": "code",
   "execution_count": 7,
   "id": "4a473e12",
   "metadata": {},
   "outputs": [
    {
     "data": {
      "text/plain": [
       "Text(0, 0.5, 'proportion')"
      ]
     },
     "execution_count": 7,
     "metadata": {},
     "output_type": "execute_result"
    },
    {
     "data": {
      "image/png": "[encoded data removed]",
      "text/plain": [
       "<Figure size 432x288 with 1 Axes>"
      ]
     },
     "metadata": {
      "needs_background": "light"
     },
     "output_type": "display_data"
    }
   ],
   "source": [
    "#plot data\n",
    "plt.scatter(X, y,label='sample data', alpha=0.5)\n",
    "\n",
    "#plot sample proportions\n",
    "uni = irissep[\"Petal.Length\"].unique()\n",
    "prop = list()\n",
    "for val in uni:\n",
    "    unidf = irissep.loc[irissep[\"Petal.Length\"] == val]\n",
    "    prop.append(sum(unidf[\"Species\"] == \"virginica\") / len(unidf))\n",
    "plt.plot(uni, prop, '.', color='red',\n",
    "         label='sample proportions', alpha=1)\n",
    "\n",
    "#plot model curve\n",
    "xplot = np.linspace(start=3, stop=7)\n",
    "yplot = 1 / (1 + np.exp(-(model.coef_[0][0] * xplot + model.intercept_[0])))\n",
    "plt.plot(xplot, yplot, label='logistic curve', alpha=1)\n",
    "\n",
    "#clean up plot\n",
    "plt.legend()\n",
    "plt.title('Proportions of virginica flowers')\n",
    "plt.xlabel('Petal Length')\n",
    "plt.ylabel('proportion')"
   ]
  },
  {
   "cell_type": "markdown",
   "id": "bac5562e",
   "metadata": {},
   "source": [
    "## 1b. Do some work with logistic regression by hand.\n",
    "Consider the logistic regression model, $P(y\n",
    "_i = 1) = \\frac{1}{1 + e^{-(\\mathbf{w x} + b)}}\\,.$\n",
    "\n",
    "Logistic regression is named after the log-odds of success, $\\ln\n",
    "  \\frac{p}{1 - p}$, where $p = P(y_i = 1)$. Show that this log-odds\n",
    "  equals $\\mathbf{w x} + b$. (That is, start with $\\ln\n",
    "  \\frac{p}{1 - p}$ and connect it in a series of equalities to $\\mathbf{w x} + b$.)\n",
    "  "
   ]
  },
  {
   "cell_type": "markdown",
   "id": "cbc0b73b",
   "metadata": {},
   "source": [
    "#### ... your Latex math in a Markdown cell here ...\n",
    "\n",
    "$\\begin{align*} % In this Latex context, \"&\" separates columns and \"\\\\\" ends a line.\n",
    "   \\ln \\frac{p}{1 - p} & = \\ln \\frac{\\frac{1}{1+e^{-\\mathbf{w x} + b}}}{1 - \\frac{1}{1+e^{-\\mathbf{w x} + b}}}\\\\\n",
    "    & = \\ln \\frac{1}{e^{b-\\mathbf{w x}}}\\\\\n",
    "    & = -\\ln e^{b-\\mathbf{w x}}\\\\\n",
    "    & = -(b-\\mathbf{w x})\\\\\n",
    "    & = \\mathbf{w x} + b\\\\\n",
    " \\end{align*}\n",
    "$"
   ]
  },
  {
   "cell_type": "markdown",
   "id": "b9e79535",
   "metadata": {},
   "source": [
    "### 1c. Do some more work with logistic regression by hand.\n",
    "\n",
    "I ran some Python/scikit-learn code to make the model pictured here: ![](toyLogistic.png)\n",
    "\n",
    "From the image and without the help of running code, match each code line from the top list with its output from the bottom list.\n",
    "\n",
    "1. `model.intercept_`\n",
    "2. `model.coef_`\n",
    "3. `model.predict(X)`\n",
    "4. `model.predict_proba(X)[:, 1]`\n",
    "\n",
    "A. `array([0, 0, 0, 1])`,\n",
    "B. `array([0.003, 0.5, 0.5, 0.997])`,\n",
    "C. `array([5.832])`,\n",
    "D. `array([0.])`"
   ]
  },
  {
   "cell_type": "markdown",
   "id": "0320b750",
   "metadata": {},
   "source": [
    "1: D, 2: C, 3: A, 4: B"
   ]
  },
  {
   "cell_type": "markdown",
   "id": "006bb6a9",
   "metadata": {},
   "source": [
    "# 2. Decision tree"
   ]
  },
  {
   "cell_type": "markdown",
   "id": "a82c49b8",
   "metadata": {},
   "source": [
    "## 2a. Make a decision tree model on a Titanic data set.\n",
    "Read the data from [http://www.stat.wisc.edu/~jgillett/451/data/kaggle_titanic_train.csv](http://www.stat.wisc.edu/~jgillett/451/data/kaggle_titanic_train.csv).\n",
    "\n",
    "These data are described at [https://www.kaggle.com/competitions/titanic/data](https://www.kaggle.com/competitions/titanic/data) (click on the small down-arrow to see the \"Data Dictionary\"), which is where they are from.\n",
    "\n",
    "- Retain only the Survived, Pclass, Sex, and Age columns.\n",
    "- Display the  first seven rows (passengers).\n",
    "  Notice that the Age column includes NaN, indicating a missing value.\n",
    "- Drop rows with missing data via `df.dropna()`. Display your data frame's shape before\n",
    "  and after dropping rows. (It should be (714, 4) after dropping rows.)\n",
    "- Add a column called 'Female' that indicates whether a passenger is Female. You can make this column via `df.Sex == 'female'`. This gives bool values True and False, which are interpreted as 1 and 0 when used in an arithmetic context.\n",
    "- Train a decision tree with `max_depth=None` to decided whether a passenger\n",
    "  `Survived` from the other three columns. Report its accuracy (with 3 decimal places)\n",
    "  on training data along with the tree's depth (which is available in `clf.tree_.max_depth`).\n",
    "- Train another tree with `max_depth=2`. Report its accuracy (with 3 decimal places).\n",
    "  Use `tree.plot_tree()` to display it, including feature_names to make the tree easy to read."
   ]
  },
  {
   "cell_type": "code",
   "execution_count": 8,
   "id": "c8c242d6",
   "metadata": {},
   "outputs": [],
   "source": [
    "titanic = pd.read_csv(\"kaggle_titanic_train.csv\")\n",
    "titanic = titanic[[\"Survived\", \"Pclass\", \"Sex\", \"Age\"]]"
   ]
  },
  {
   "cell_type": "code",
   "execution_count": 9,
   "id": "7d1d72de",
   "metadata": {},
   "outputs": [
    {
     "data": {
      "text/html": [
       "<div>\n",
       "<style scoped>\n",
       "    .dataframe tbody tr th:only-of-type {\n",
       "        vertical-align: middle;\n",
       "    }\n",
       "\n",
       "    .dataframe tbody tr th {\n",
       "        vertical-align: top;\n",
       "    }\n",
       "\n",
       "    .dataframe thead th {\n",
       "        text-align: right;\n",
       "    }\n",
       "</style>\n",
       "<table border=\"1\" class=\"dataframe\">\n",
       "  <thead>\n",
       "    <tr style=\"text-align: right;\">\n",
       "      <th></th>\n",
       "      <th>Survived</th>\n",
       "      <th>Pclass</th>\n",
       "      <th>Sex</th>\n",
       "      <th>Age</th>\n",
       "    </tr>\n",
       "  </thead>\n",
       "  <tbody>\n",
       "    <tr>\n",
       "      <th>0</th>\n",
       "      <td>0</td>\n",
       "      <td>3</td>\n",
       "      <td>male</td>\n",
       "      <td>22.0</td>\n",
       "    </tr>\n",
       "    <tr>\n",
       "      <th>1</th>\n",
       "      <td>1</td>\n",
       "      <td>1</td>\n",
       "      <td>female</td>\n",
       "      <td>38.0</td>\n",
       "    </tr>\n",
       "    <tr>\n",
       "      <th>2</th>\n",
       "      <td>1</td>\n",
       "      <td>3</td>\n",
       "      <td>female</td>\n",
       "      <td>26.0</td>\n",
       "    </tr>\n",
       "    <tr>\n",
       "      <th>3</th>\n",
       "      <td>1</td>\n",
       "      <td>1</td>\n",
       "      <td>female</td>\n",
       "      <td>35.0</td>\n",
       "    </tr>\n",
       "    <tr>\n",
       "      <th>4</th>\n",
       "      <td>0</td>\n",
       "      <td>3</td>\n",
       "      <td>male</td>\n",
       "      <td>35.0</td>\n",
       "    </tr>\n",
       "    <tr>\n",
       "      <th>5</th>\n",
       "      <td>0</td>\n",
       "      <td>3</td>\n",
       "      <td>male</td>\n",
       "      <td>NaN</td>\n",
       "    </tr>\n",
       "    <tr>\n",
       "      <th>6</th>\n",
       "      <td>0</td>\n",
       "      <td>1</td>\n",
       "      <td>male</td>\n",
       "      <td>54.0</td>\n",
       "    </tr>\n",
       "  </tbody>\n",
       "</table>\n",
       "</div>"
      ],
      "text/plain": [
       "   Survived  Pclass     Sex   Age\n",
       "0         0       3    male  22.0\n",
       "1         1       1  female  38.0\n",
       "2         1       3  female  26.0\n",
       "3         1       1  female  35.0\n",
       "4         0       3    male  35.0\n",
       "5         0       3    male   NaN\n",
       "6         0       1    male  54.0"
      ]
     },
     "metadata": {},
     "output_type": "display_data"
    }
   ],
   "source": [
    "display(titanic.iloc[0:7])"
   ]
  },
  {
   "cell_type": "code",
   "execution_count": 10,
   "id": "5d8b3f57",
   "metadata": {},
   "outputs": [
    {
     "name": "stdout",
     "output_type": "stream",
     "text": [
      "The shape of the 'full' titanic dataset is (891, 4).\n",
      "The shape of the titanic dataset with dropped rows of NA values is (714, 4).\n"
     ]
    }
   ],
   "source": [
    "print(f\"The shape of the 'full' titanic dataset is {titanic.shape}.\")\n",
    "titanic = titanic.dropna()\n",
    "print(f\"The shape of the titanic dataset with dropped rows of NA values is {titanic.shape}.\")"
   ]
  },
  {
   "cell_type": "code",
   "execution_count": 11,
   "id": "6e9c70eb",
   "metadata": {},
   "outputs": [
    {
     "name": "stdout",
     "output_type": "stream",
     "text": [
      "The decision tree model with no depth restriction has a score of 0.896 and a max depth of 15.\n"
     ]
    }
   ],
   "source": [
    "titanic[\"Female\"] = titanic.Sex == \"female\"\n",
    "X = titanic[[\"Pclass\", \"Age\", \"Female\"]]\n",
    "y = titanic[\"Survived\"]\n",
    "clf = DecisionTreeClassifier(criterion='entropy', max_depth=None)\n",
    "clf.fit(X, y)\n",
    "print(f\"The decision tree model with no depth restriction has a score of {clf.score(X,y):.3} and a max depth of {clf.tree_.max_depth}.\")"
   ]
  },
  {
   "cell_type": "code",
   "execution_count": 12,
   "id": "87f47f41",
   "metadata": {},
   "outputs": [
    {
     "name": "stdout",
     "output_type": "stream",
     "text": [
      "The decision tree model with a depth restriction of 2 has a score of 0.791.\n"
     ]
    }
   ],
   "source": [
    "clf = DecisionTreeClassifier(criterion='entropy', max_depth=2)\n",
    "clf.fit(X, y)\n",
    "print(f\"The decision tree model with a depth restriction of 2 has a score of {clf.score(X,y):.3}.\")"
   ]
  },
  {
   "cell_type": "code",
   "execution_count": 13,
   "id": "09b8abc6",
   "metadata": {},
   "outputs": [
    {
     "data": {
      "text/plain": [
       "[Text(0.5, 0.8333333333333334, 'Female <= 0.5\\nentropy = 0.974\\nsamples = 714\\nvalue = [424, 290]'),\n",
       " Text(0.25, 0.5, 'Pclass <= 1.5\\nentropy = 0.732\\nsamples = 453\\nvalue = [360, 93]'),\n",
       " Text(0.125, 0.16666666666666666, 'entropy = 0.969\\nsamples = 101\\nvalue = [61, 40]'),\n",
       " Text(0.375, 0.16666666666666666, 'entropy = 0.611\\nsamples = 352\\nvalue = [299, 53]'),\n",
       " Text(0.75, 0.5, 'Pclass <= 2.5\\nentropy = 0.804\\nsamples = 261\\nvalue = [64, 197]'),\n",
       " Text(0.625, 0.16666666666666666, 'entropy = 0.314\\nsamples = 159\\nvalue = [9, 150]'),\n",
       " Text(0.875, 0.16666666666666666, 'entropy = 0.996\\nsamples = 102\\nvalue = [55, 47]')]"
      ]
     },
     "execution_count": 13,
     "metadata": {},
     "output_type": "execute_result"
    },
    {
     "data": {
      "image/png": "[encoded data removed]",
      "text/plain": [
       "<Figure size 432x288 with 1 Axes>"
      ]
     },
     "metadata": {
      "needs_background": "light"
     },
     "output_type": "display_data"
    }
   ],
   "source": [
    "feature_names = [\"Pclass\", \"Age\", \"Female\"]\n",
    "tree.plot_tree(clf, feature_names=feature_names)"
   ]
  },
  {
   "cell_type": "markdown",
   "id": "92388657",
   "metadata": {},
   "source": [
    "## 2b. Which features are used in the (max_depth=2) decision-making? Answer in a markdown cell."
   ]
  },
  {
   "cell_type": "markdown",
   "id": "44c68760",
   "metadata": {},
   "source": [
    "The decision tree model with a max depth of 2 only used sex and passenger class in the decision making process."
   ]
  },
  {
   "cell_type": "markdown",
   "id": "aa128a8c",
   "metadata": {},
   "source": [
    " ## 2c. What proportion of females survived? What proportion of males survived?\n",
    " Answer in two sentences via print(), with each proportion rounded to three decimal places.\n",
    " \n",
    " Hint: There are many ways to do this. One quick way is to find the average of the `Female`\n",
    " column for each subset."
   ]
  },
  {
   "cell_type": "code",
   "execution_count": 14,
   "id": "700852b6",
   "metadata": {},
   "outputs": [
    {
     "name": "stdout",
     "output_type": "stream",
     "text": [
      "The proportion of females that survived was around 0.755. The proportion of males that survived was around 0.205.\n"
     ]
    }
   ],
   "source": [
    "f = titanic[titanic[\"Female\"] == True]\n",
    "fprop = sum(f[\"Survived\"]) / len(f)\n",
    "m = titanic[titanic[\"Female\"] == False]\n",
    "mprop = sum(m[\"Survived\"]) / len(m)\n",
    "print(f\"The proportion of females that survived was around {fprop:.3}. The proportion of males that survived was around {mprop:.3}.\")"
   ]
  },
  {
   "cell_type": "markdown",
   "id": "8fee52c3",
   "metadata": {},
   "source": [
    "## 2d. Do some decision tree calculations by hand.\n",
    "Consider a decision tree node containing the following set of examples $S =\n",
    "\\{(\\mathbf{x}, y)\\}$ where $\\mathbf{x} = (x_1, x_2)$:\n",
    "\n",
    "((4, 9), 1)\n",
    "\n",
    "((2, 6), 0)\n",
    "\n",
    "((5, 7), 0)\n",
    "\n",
    "((3, 8), 1)\n",
    "\n",
    "Find the entropy of $S$."
   ]
  },
  {
   "cell_type": "markdown",
   "id": "ea40315c",
   "metadata": {},
   "source": [
    "The entropy of S is p(0) * -log2(p(0)) + p(1) * -log2(p(1)) which equals 1.0."
   ]
  },
  {
   "cell_type": "markdown",
   "id": "62982e16",
   "metadata": {},
   "source": [
    " ## 2e. Do some more decision tree calculations by hand.\n",
    "Find a (feature, threshold) pair that yields the best split for this node."
   ]
  },
  {
   "cell_type": "markdown",
   "id": "863fcd86",
   "metadata": {},
   "source": [
    "Using feature x2 and threshold 7: S_ = ((2,6) 0), ((5,7) 0) and S+ = ((3,8) 1), ((4,9) 1) which both yield a weighted entropy = 0.0 and thus is the best split."
   ]
  }
 ],
 "metadata": {
  "celltoolbar": "Tags",
  "kernelspec": {
   "display_name": "Python 3 (ipykernel)",
   "language": "python",
   "name": "python3"
  },
  "language_info": {
   "codemirror_mode": {
    "name": "ipython",
    "version": 3
   },
   "file_extension": ".py",
   "mimetype": "text/x-python",
   "name": "python",
   "nbconvert_exporter": "python",
   "pygments_lexer": "ipython3",
   "version": "3.9.12"
  }
 },
 "nbformat": 4,
 "nbformat_minor": 5
}
