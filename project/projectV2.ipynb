{
 "cells": [
  {
   "cell_type": "code",
   "execution_count": 1,
   "id": "4f72c661",
   "metadata": {},
   "outputs": [],
   "source": [
    "import numpy as np\n",
    "import pandas as pd\n",
    "import random\n",
    "import matplotlib.pyplot as plt\n",
    "from sklearn.model_selection import train_test_split, GridSearchCV\n",
    "\n",
    "\n",
    "import warnings\n",
    "from sklearn.impute import SimpleImputer\n",
    "from sklearn import svm, linear_model, datasets, mixture\n",
    "from sklearn.tree import DecisionTreeClassifier\n",
    "from sklearn.neighbors import KNeighborsClassifier\n",
    "\n",
    "from sklearn.metrics import (confusion_matrix, precision_score, recall_score,\n",
    "                             accuracy_score, roc_auc_score, RocCurveDisplay)\n",
    "\n",
    "from sklearn.datasets import make_classification\n",
    "from sklearn.ensemble import GradientBoostingClassifier\n",
    "from imblearn.over_sampling import RandomOverSampler\n",
    "\n",
    "from xgboost import plot_importance"
   ]
  },
  {
   "cell_type": "code",
   "execution_count": 39,
   "id": "e3a92191",
   "metadata": {},
   "outputs": [],
   "source": [
    "df = pd.read_table(\"healthcare-dataset-stroke-data.csv\",sep=\",\")\n",
    "dummies = df.join(pd.get_dummies(df[[\"gender\", \"ever_married\", \"work_type\", \"Residence_type\",\"smoking_status\"]]))"
   ]
  },
  {
   "cell_type": "code",
   "execution_count": 40,
   "id": "8f430aff",
   "metadata": {},
   "outputs": [],
   "source": [
    "X = dummies.loc[:, dummies.columns != \"stroke\"]\n",
    "y = dummies[\"stroke\"]"
   ]
  },
  {
   "cell_type": "code",
   "execution_count": 41,
   "id": "03892ed6",
   "metadata": {},
   "outputs": [
    {
     "data": {
      "text/html": [
       "<div>\n",
       "<style scoped>\n",
       "    .dataframe tbody tr th:only-of-type {\n",
       "        vertical-align: middle;\n",
       "    }\n",
       "\n",
       "    .dataframe tbody tr th {\n",
       "        vertical-align: top;\n",
       "    }\n",
       "\n",
       "    .dataframe thead th {\n",
       "        text-align: right;\n",
       "    }\n",
       "</style>\n",
       "<table border=\"1\" class=\"dataframe\">\n",
       "  <thead>\n",
       "    <tr style=\"text-align: right;\">\n",
       "      <th></th>\n",
       "      <th>id</th>\n",
       "      <th>gender</th>\n",
       "      <th>age</th>\n",
       "      <th>hypertension</th>\n",
       "      <th>heart_disease</th>\n",
       "      <th>ever_married</th>\n",
       "      <th>work_type</th>\n",
       "      <th>Residence_type</th>\n",
       "      <th>avg_glucose_level</th>\n",
       "      <th>bmi</th>\n",
       "      <th>...</th>\n",
       "      <th>work_type_Private</th>\n",
       "      <th>work_type_Self-employed</th>\n",
       "      <th>work_type_children</th>\n",
       "      <th>Residence_type_Rural</th>\n",
       "      <th>Residence_type_Urban</th>\n",
       "      <th>smoking_status_Unknown</th>\n",
       "      <th>smoking_status_formerly smoked</th>\n",
       "      <th>smoking_status_never smoked</th>\n",
       "      <th>smoking_status_smokes</th>\n",
       "      <th>bmi_na</th>\n",
       "    </tr>\n",
       "  </thead>\n",
       "  <tbody>\n",
       "    <tr>\n",
       "      <th>0</th>\n",
       "      <td>9046</td>\n",
       "      <td>Male</td>\n",
       "      <td>67.0</td>\n",
       "      <td>0</td>\n",
       "      <td>1</td>\n",
       "      <td>Yes</td>\n",
       "      <td>Private</td>\n",
       "      <td>Urban</td>\n",
       "      <td>228.69</td>\n",
       "      <td>36.6</td>\n",
       "      <td>...</td>\n",
       "      <td>1</td>\n",
       "      <td>0</td>\n",
       "      <td>0</td>\n",
       "      <td>0</td>\n",
       "      <td>1</td>\n",
       "      <td>0</td>\n",
       "      <td>1</td>\n",
       "      <td>0</td>\n",
       "      <td>0</td>\n",
       "      <td>False</td>\n",
       "    </tr>\n",
       "    <tr>\n",
       "      <th>1</th>\n",
       "      <td>51676</td>\n",
       "      <td>Female</td>\n",
       "      <td>61.0</td>\n",
       "      <td>0</td>\n",
       "      <td>0</td>\n",
       "      <td>Yes</td>\n",
       "      <td>Self-employed</td>\n",
       "      <td>Rural</td>\n",
       "      <td>202.21</td>\n",
       "      <td>0.0</td>\n",
       "      <td>...</td>\n",
       "      <td>0</td>\n",
       "      <td>1</td>\n",
       "      <td>0</td>\n",
       "      <td>1</td>\n",
       "      <td>0</td>\n",
       "      <td>0</td>\n",
       "      <td>0</td>\n",
       "      <td>1</td>\n",
       "      <td>0</td>\n",
       "      <td>True</td>\n",
       "    </tr>\n",
       "    <tr>\n",
       "      <th>2</th>\n",
       "      <td>31112</td>\n",
       "      <td>Male</td>\n",
       "      <td>80.0</td>\n",
       "      <td>0</td>\n",
       "      <td>1</td>\n",
       "      <td>Yes</td>\n",
       "      <td>Private</td>\n",
       "      <td>Rural</td>\n",
       "      <td>105.92</td>\n",
       "      <td>32.5</td>\n",
       "      <td>...</td>\n",
       "      <td>1</td>\n",
       "      <td>0</td>\n",
       "      <td>0</td>\n",
       "      <td>1</td>\n",
       "      <td>0</td>\n",
       "      <td>0</td>\n",
       "      <td>0</td>\n",
       "      <td>1</td>\n",
       "      <td>0</td>\n",
       "      <td>False</td>\n",
       "    </tr>\n",
       "    <tr>\n",
       "      <th>3</th>\n",
       "      <td>60182</td>\n",
       "      <td>Female</td>\n",
       "      <td>49.0</td>\n",
       "      <td>0</td>\n",
       "      <td>0</td>\n",
       "      <td>Yes</td>\n",
       "      <td>Private</td>\n",
       "      <td>Urban</td>\n",
       "      <td>171.23</td>\n",
       "      <td>34.4</td>\n",
       "      <td>...</td>\n",
       "      <td>1</td>\n",
       "      <td>0</td>\n",
       "      <td>0</td>\n",
       "      <td>0</td>\n",
       "      <td>1</td>\n",
       "      <td>0</td>\n",
       "      <td>0</td>\n",
       "      <td>0</td>\n",
       "      <td>1</td>\n",
       "      <td>False</td>\n",
       "    </tr>\n",
       "    <tr>\n",
       "      <th>4</th>\n",
       "      <td>1665</td>\n",
       "      <td>Female</td>\n",
       "      <td>79.0</td>\n",
       "      <td>1</td>\n",
       "      <td>0</td>\n",
       "      <td>Yes</td>\n",
       "      <td>Self-employed</td>\n",
       "      <td>Rural</td>\n",
       "      <td>174.12</td>\n",
       "      <td>24.0</td>\n",
       "      <td>...</td>\n",
       "      <td>0</td>\n",
       "      <td>1</td>\n",
       "      <td>0</td>\n",
       "      <td>1</td>\n",
       "      <td>0</td>\n",
       "      <td>0</td>\n",
       "      <td>0</td>\n",
       "      <td>1</td>\n",
       "      <td>0</td>\n",
       "      <td>False</td>\n",
       "    </tr>\n",
       "    <tr>\n",
       "      <th>...</th>\n",
       "      <td>...</td>\n",
       "      <td>...</td>\n",
       "      <td>...</td>\n",
       "      <td>...</td>\n",
       "      <td>...</td>\n",
       "      <td>...</td>\n",
       "      <td>...</td>\n",
       "      <td>...</td>\n",
       "      <td>...</td>\n",
       "      <td>...</td>\n",
       "      <td>...</td>\n",
       "      <td>...</td>\n",
       "      <td>...</td>\n",
       "      <td>...</td>\n",
       "      <td>...</td>\n",
       "      <td>...</td>\n",
       "      <td>...</td>\n",
       "      <td>...</td>\n",
       "      <td>...</td>\n",
       "      <td>...</td>\n",
       "      <td>...</td>\n",
       "    </tr>\n",
       "    <tr>\n",
       "      <th>5105</th>\n",
       "      <td>18234</td>\n",
       "      <td>Female</td>\n",
       "      <td>80.0</td>\n",
       "      <td>1</td>\n",
       "      <td>0</td>\n",
       "      <td>Yes</td>\n",
       "      <td>Private</td>\n",
       "      <td>Urban</td>\n",
       "      <td>83.75</td>\n",
       "      <td>0.0</td>\n",
       "      <td>...</td>\n",
       "      <td>1</td>\n",
       "      <td>0</td>\n",
       "      <td>0</td>\n",
       "      <td>0</td>\n",
       "      <td>1</td>\n",
       "      <td>0</td>\n",
       "      <td>0</td>\n",
       "      <td>1</td>\n",
       "      <td>0</td>\n",
       "      <td>True</td>\n",
       "    </tr>\n",
       "    <tr>\n",
       "      <th>5106</th>\n",
       "      <td>44873</td>\n",
       "      <td>Female</td>\n",
       "      <td>81.0</td>\n",
       "      <td>0</td>\n",
       "      <td>0</td>\n",
       "      <td>Yes</td>\n",
       "      <td>Self-employed</td>\n",
       "      <td>Urban</td>\n",
       "      <td>125.20</td>\n",
       "      <td>40.0</td>\n",
       "      <td>...</td>\n",
       "      <td>0</td>\n",
       "      <td>1</td>\n",
       "      <td>0</td>\n",
       "      <td>0</td>\n",
       "      <td>1</td>\n",
       "      <td>0</td>\n",
       "      <td>0</td>\n",
       "      <td>1</td>\n",
       "      <td>0</td>\n",
       "      <td>False</td>\n",
       "    </tr>\n",
       "    <tr>\n",
       "      <th>5107</th>\n",
       "      <td>19723</td>\n",
       "      <td>Female</td>\n",
       "      <td>35.0</td>\n",
       "      <td>0</td>\n",
       "      <td>0</td>\n",
       "      <td>Yes</td>\n",
       "      <td>Self-employed</td>\n",
       "      <td>Rural</td>\n",
       "      <td>82.99</td>\n",
       "      <td>30.6</td>\n",
       "      <td>...</td>\n",
       "      <td>0</td>\n",
       "      <td>1</td>\n",
       "      <td>0</td>\n",
       "      <td>1</td>\n",
       "      <td>0</td>\n",
       "      <td>0</td>\n",
       "      <td>0</td>\n",
       "      <td>1</td>\n",
       "      <td>0</td>\n",
       "      <td>False</td>\n",
       "    </tr>\n",
       "    <tr>\n",
       "      <th>5108</th>\n",
       "      <td>37544</td>\n",
       "      <td>Male</td>\n",
       "      <td>51.0</td>\n",
       "      <td>0</td>\n",
       "      <td>0</td>\n",
       "      <td>Yes</td>\n",
       "      <td>Private</td>\n",
       "      <td>Rural</td>\n",
       "      <td>166.29</td>\n",
       "      <td>25.6</td>\n",
       "      <td>...</td>\n",
       "      <td>1</td>\n",
       "      <td>0</td>\n",
       "      <td>0</td>\n",
       "      <td>1</td>\n",
       "      <td>0</td>\n",
       "      <td>0</td>\n",
       "      <td>1</td>\n",
       "      <td>0</td>\n",
       "      <td>0</td>\n",
       "      <td>False</td>\n",
       "    </tr>\n",
       "    <tr>\n",
       "      <th>5109</th>\n",
       "      <td>44679</td>\n",
       "      <td>Female</td>\n",
       "      <td>44.0</td>\n",
       "      <td>0</td>\n",
       "      <td>0</td>\n",
       "      <td>Yes</td>\n",
       "      <td>Govt_job</td>\n",
       "      <td>Urban</td>\n",
       "      <td>85.28</td>\n",
       "      <td>26.2</td>\n",
       "      <td>...</td>\n",
       "      <td>0</td>\n",
       "      <td>0</td>\n",
       "      <td>0</td>\n",
       "      <td>0</td>\n",
       "      <td>1</td>\n",
       "      <td>1</td>\n",
       "      <td>0</td>\n",
       "      <td>0</td>\n",
       "      <td>0</td>\n",
       "      <td>False</td>\n",
       "    </tr>\n",
       "  </tbody>\n",
       "</table>\n",
       "<p>5110 rows × 29 columns</p>\n",
       "</div>"
      ],
      "text/plain": [
       "         id  gender   age  hypertension  heart_disease ever_married  \\\n",
       "0      9046    Male  67.0             0              1          Yes   \n",
       "1     51676  Female  61.0             0              0          Yes   \n",
       "2     31112    Male  80.0             0              1          Yes   \n",
       "3     60182  Female  49.0             0              0          Yes   \n",
       "4      1665  Female  79.0             1              0          Yes   \n",
       "...     ...     ...   ...           ...            ...          ...   \n",
       "5105  18234  Female  80.0             1              0          Yes   \n",
       "5106  44873  Female  81.0             0              0          Yes   \n",
       "5107  19723  Female  35.0             0              0          Yes   \n",
       "5108  37544    Male  51.0             0              0          Yes   \n",
       "5109  44679  Female  44.0             0              0          Yes   \n",
       "\n",
       "          work_type Residence_type  avg_glucose_level   bmi  ...  \\\n",
       "0           Private          Urban             228.69  36.6  ...   \n",
       "1     Self-employed          Rural             202.21   0.0  ...   \n",
       "2           Private          Rural             105.92  32.5  ...   \n",
       "3           Private          Urban             171.23  34.4  ...   \n",
       "4     Self-employed          Rural             174.12  24.0  ...   \n",
       "...             ...            ...                ...   ...  ...   \n",
       "5105        Private          Urban              83.75   0.0  ...   \n",
       "5106  Self-employed          Urban             125.20  40.0  ...   \n",
       "5107  Self-employed          Rural              82.99  30.6  ...   \n",
       "5108        Private          Rural             166.29  25.6  ...   \n",
       "5109       Govt_job          Urban              85.28  26.2  ...   \n",
       "\n",
       "     work_type_Private  work_type_Self-employed  work_type_children  \\\n",
       "0                    1                        0                   0   \n",
       "1                    0                        1                   0   \n",
       "2                    1                        0                   0   \n",
       "3                    1                        0                   0   \n",
       "4                    0                        1                   0   \n",
       "...                ...                      ...                 ...   \n",
       "5105                 1                        0                   0   \n",
       "5106                 0                        1                   0   \n",
       "5107                 0                        1                   0   \n",
       "5108                 1                        0                   0   \n",
       "5109                 0                        0                   0   \n",
       "\n",
       "      Residence_type_Rural  Residence_type_Urban  smoking_status_Unknown  \\\n",
       "0                        0                     1                       0   \n",
       "1                        1                     0                       0   \n",
       "2                        1                     0                       0   \n",
       "3                        0                     1                       0   \n",
       "4                        1                     0                       0   \n",
       "...                    ...                   ...                     ...   \n",
       "5105                     0                     1                       0   \n",
       "5106                     0                     1                       0   \n",
       "5107                     1                     0                       0   \n",
       "5108                     1                     0                       0   \n",
       "5109                     0                     1                       1   \n",
       "\n",
       "      smoking_status_formerly smoked  smoking_status_never smoked  \\\n",
       "0                                  1                            0   \n",
       "1                                  0                            1   \n",
       "2                                  0                            1   \n",
       "3                                  0                            0   \n",
       "4                                  0                            1   \n",
       "...                              ...                          ...   \n",
       "5105                               0                            1   \n",
       "5106                               0                            1   \n",
       "5107                               0                            1   \n",
       "5108                               1                            0   \n",
       "5109                               0                            0   \n",
       "\n",
       "      smoking_status_smokes  bmi_na  \n",
       "0                         0   False  \n",
       "1                         0    True  \n",
       "2                         0   False  \n",
       "3                         1   False  \n",
       "4                         0   False  \n",
       "...                     ...     ...  \n",
       "5105                      0    True  \n",
       "5106                      0   False  \n",
       "5107                      0   False  \n",
       "5108                      0   False  \n",
       "5109                      0   False  \n",
       "\n",
       "[5110 rows x 29 columns]"
      ]
     },
     "execution_count": 41,
     "metadata": {},
     "output_type": "execute_result"
    }
   ],
   "source": [
    "#zero imputation\n",
    "dummies[\"bmi_na\"] = dummies[\"bmi\"].isna()\n",
    "imp = SimpleImputer(missing_values=np.nan, strategy='constant', fill_value=None)\n",
    "dummies.bmi = imp.fit_transform(dummies.bmi.to_numpy().reshape(-1, 1))\n",
    "dummies"
   ]
  },
  {
   "cell_type": "code",
   "execution_count": 42,
   "id": "31214ba9",
   "metadata": {},
   "outputs": [],
   "source": [
    "keyz = [2,3,4,8,9,14,24,26,28]\n",
    "gender = [12,13]\n",
    "married = [15,16]\n",
    "work = [17,18,19,20,21]\n",
    "resid = [22,23]\n",
    "        \n",
    "dummies[\"bmi_na\"] = dummies[\"bmi\"].isna()\n",
    "imp = SimpleImputer(missing_values=np.nan, strategy=\"constant\", fill_value=None)\n",
    "dummies.bmi = imp.fit_transform(dummies.bmi.to_numpy().reshape(-1, 1))\n",
    "        \n",
    "for var in [gender, married, work, resid]:\n",
    "    keyz.extend(random.sample(var,len(var)-1))   \n",
    "X = dummies[dummies.keys()[keyz]]"
   ]
  },
  {
   "cell_type": "code",
   "execution_count": 43,
   "id": "a18dd0d5",
   "metadata": {},
   "outputs": [],
   "source": [
    "# split 80% training data, 20% \"_tmp\" for validation & test\n",
    "X_train, X_tmp, y_train, y_tmp = train_test_split(X, y, test_size=.2,\n",
    "                                                  random_state=0, stratify=y)\n",
    "        # of remaining 20%, split in half to get 10% validation, 10% test\n",
    "X_valid, X_test, y_valid, y_test = train_test_split(X_tmp, y_tmp, test_size=.5,\n",
    "                                                  random_state=0, stratify=y_tmp)\n",
    "ros = RandomOverSampler(random_state=0)\n",
    "X_resampled, y_resampled = ros.fit_resample(X_train, y_train)"
   ]
  },
  {
   "cell_type": "code",
   "execution_count": 45,
   "id": "fdb8f613",
   "metadata": {},
   "outputs": [
    {
     "data": {
      "text/html": [
       "<style>#sk-container-id-5 {color: black;background-color: white;}#sk-container-id-5 pre{padding: 0;}#sk-container-id-5 div.sk-toggleable {background-color: white;}#sk-container-id-5 label.sk-toggleable__label {cursor: pointer;display: block;width: 100%;margin-bottom: 0;padding: 0.3em;box-sizing: border-box;text-align: center;}#sk-container-id-5 label.sk-toggleable__label-arrow:before {content: \"▸\";float: left;margin-right: 0.25em;color: #696969;}#sk-container-id-5 label.sk-toggleable__label-arrow:hover:before {color: black;}#sk-container-id-5 div.sk-estimator:hover label.sk-toggleable__label-arrow:before {color: black;}#sk-container-id-5 div.sk-toggleable__content {max-height: 0;max-width: 0;overflow: hidden;text-align: left;background-color: #f0f8ff;}#sk-container-id-5 div.sk-toggleable__content pre {margin: 0.2em;color: black;border-radius: 0.25em;background-color: #f0f8ff;}#sk-container-id-5 input.sk-toggleable__control:checked~div.sk-toggleable__content {max-height: 200px;max-width: 100%;overflow: auto;}#sk-container-id-5 input.sk-toggleable__control:checked~label.sk-toggleable__label-arrow:before {content: \"▾\";}#sk-container-id-5 div.sk-estimator input.sk-toggleable__control:checked~label.sk-toggleable__label {background-color: #d4ebff;}#sk-container-id-5 div.sk-label input.sk-toggleable__control:checked~label.sk-toggleable__label {background-color: #d4ebff;}#sk-container-id-5 input.sk-hidden--visually {border: 0;clip: rect(1px 1px 1px 1px);clip: rect(1px, 1px, 1px, 1px);height: 1px;margin: -1px;overflow: hidden;padding: 0;position: absolute;width: 1px;}#sk-container-id-5 div.sk-estimator {font-family: monospace;background-color: #f0f8ff;border: 1px dotted black;border-radius: 0.25em;box-sizing: border-box;margin-bottom: 0.5em;}#sk-container-id-5 div.sk-estimator:hover {background-color: #d4ebff;}#sk-container-id-5 div.sk-parallel-item::after {content: \"\";width: 100%;border-bottom: 1px solid gray;flex-grow: 1;}#sk-container-id-5 div.sk-label:hover label.sk-toggleable__label {background-color: #d4ebff;}#sk-container-id-5 div.sk-serial::before {content: \"\";position: absolute;border-left: 1px solid gray;box-sizing: border-box;top: 0;bottom: 0;left: 50%;z-index: 0;}#sk-container-id-5 div.sk-serial {display: flex;flex-direction: column;align-items: center;background-color: white;padding-right: 0.2em;padding-left: 0.2em;position: relative;}#sk-container-id-5 div.sk-item {position: relative;z-index: 1;}#sk-container-id-5 div.sk-parallel {display: flex;align-items: stretch;justify-content: center;background-color: white;position: relative;}#sk-container-id-5 div.sk-item::before, #sk-container-id-5 div.sk-parallel-item::before {content: \"\";position: absolute;border-left: 1px solid gray;box-sizing: border-box;top: 0;bottom: 0;left: 50%;z-index: -1;}#sk-container-id-5 div.sk-parallel-item {display: flex;flex-direction: column;z-index: 1;position: relative;background-color: white;}#sk-container-id-5 div.sk-parallel-item:first-child::after {align-self: flex-end;width: 50%;}#sk-container-id-5 div.sk-parallel-item:last-child::after {align-self: flex-start;width: 50%;}#sk-container-id-5 div.sk-parallel-item:only-child::after {width: 0;}#sk-container-id-5 div.sk-dashed-wrapped {border: 1px dashed gray;margin: 0 0.4em 0.5em 0.4em;box-sizing: border-box;padding-bottom: 0.4em;background-color: white;}#sk-container-id-5 div.sk-label label {font-family: monospace;font-weight: bold;display: inline-block;line-height: 1.2em;}#sk-container-id-5 div.sk-label-container {text-align: center;}#sk-container-id-5 div.sk-container {/* jupyter's `normalize.less` sets `[hidden] { display: none; }` but bootstrap.min.css set `[hidden] { display: none !important; }` so we also need the `!important` here to be able to override the default hidden behavior on the sphinx rendered scikit-learn.org. See: https://github.com/scikit-learn/scikit-learn/issues/21755 */display: inline-block !important;position: relative;}#sk-container-id-5 div.sk-text-repr-fallback {display: none;}</style><div id=\"sk-container-id-5\" class=\"sk-top-container\"><div class=\"sk-text-repr-fallback\"><pre>GridSearchCV(estimator=GradientBoostingClassifier(),\n",
       "             param_grid=[{&#x27;learning_rate&#x27;: [0.01, 0.1, 0.25, 0.5, 1],\n",
       "                          &#x27;max_depth&#x27;: [1, 2, 5, 10],\n",
       "                          &#x27;n_estimators&#x27;: (10, 25, 50, 100)}],\n",
       "             scoring=&#x27;recall&#x27;)</pre><b>In a Jupyter environment, please rerun this cell to show the HTML representation or trust the notebook. <br />On GitHub, the HTML representation is unable to render, please try loading this page with nbviewer.org.</b></div><div class=\"sk-container\" hidden><div class=\"sk-item sk-dashed-wrapped\"><div class=\"sk-label-container\"><div class=\"sk-label sk-toggleable\"><input class=\"sk-toggleable__control sk-hidden--visually\" id=\"sk-estimator-id-13\" type=\"checkbox\" ><label for=\"sk-estimator-id-13\" class=\"sk-toggleable__label sk-toggleable__label-arrow\">GridSearchCV</label><div class=\"sk-toggleable__content\"><pre>GridSearchCV(estimator=GradientBoostingClassifier(),\n",
       "             param_grid=[{&#x27;learning_rate&#x27;: [0.01, 0.1, 0.25, 0.5, 1],\n",
       "                          &#x27;max_depth&#x27;: [1, 2, 5, 10],\n",
       "                          &#x27;n_estimators&#x27;: (10, 25, 50, 100)}],\n",
       "             scoring=&#x27;recall&#x27;)</pre></div></div></div><div class=\"sk-parallel\"><div class=\"sk-parallel-item\"><div class=\"sk-item\"><div class=\"sk-label-container\"><div class=\"sk-label sk-toggleable\"><input class=\"sk-toggleable__control sk-hidden--visually\" id=\"sk-estimator-id-14\" type=\"checkbox\" ><label for=\"sk-estimator-id-14\" class=\"sk-toggleable__label sk-toggleable__label-arrow\">estimator: GradientBoostingClassifier</label><div class=\"sk-toggleable__content\"><pre>GradientBoostingClassifier()</pre></div></div></div><div class=\"sk-serial\"><div class=\"sk-item\"><div class=\"sk-estimator sk-toggleable\"><input class=\"sk-toggleable__control sk-hidden--visually\" id=\"sk-estimator-id-15\" type=\"checkbox\" ><label for=\"sk-estimator-id-15\" class=\"sk-toggleable__label sk-toggleable__label-arrow\">GradientBoostingClassifier</label><div class=\"sk-toggleable__content\"><pre>GradientBoostingClassifier()</pre></div></div></div></div></div></div></div></div></div></div>"
      ],
      "text/plain": [
       "GridSearchCV(estimator=GradientBoostingClassifier(),\n",
       "             param_grid=[{'learning_rate': [0.01, 0.1, 0.25, 0.5, 1],\n",
       "                          'max_depth': [1, 2, 5, 10],\n",
       "                          'n_estimators': (10, 25, 50, 100)}],\n",
       "             scoring='recall')"
      ]
     },
     "execution_count": 45,
     "metadata": {},
     "output_type": "execute_result"
    }
   ],
   "source": [
    "warnings.filterwarnings(action='ignore')\n",
    "parameters = [{'n_estimators':(10,25,50,100), 'learning_rate':[0.01, 0.1, 0.25, 0.5, 1], 'max_depth': [1,2,5,10]}]\n",
    "clf = GridSearchCV(GradientBoostingClassifier(), parameters,scoring=\"recall\")\n",
    "clf.fit(X_resampled, y_resampled)"
   ]
  },
  {
   "cell_type": "code",
   "execution_count": 46,
   "id": "8d19fdf0",
   "metadata": {},
   "outputs": [
    {
     "data": {
      "text/plain": [
       "{'learning_rate': 0.01, 'max_depth': 10, 'n_estimators': 50}"
      ]
     },
     "execution_count": 46,
     "metadata": {},
     "output_type": "execute_result"
    }
   ],
   "source": [
    "clf.best_params_"
   ]
  },
  {
   "cell_type": "code",
   "execution_count": 32,
   "id": "eee4b70d",
   "metadata": {},
   "outputs": [
    {
     "data": {
      "text/plain": [
       "1.0"
      ]
     },
     "execution_count": 32,
     "metadata": {},
     "output_type": "execute_result"
    }
   ],
   "source": [
    "clf.best_score_"
   ]
  },
  {
   "cell_type": "code",
   "execution_count": 33,
   "id": "4b4ec077",
   "metadata": {},
   "outputs": [
    {
     "name": "stdout",
     "output_type": "stream",
     "text": [
      "precision=0.151, recall=0.32, accuracy=0.879, auc=0.64\n"
     ]
    },
    {
     "data": {
      "image/png": "[encoded data removed]",
      "text/plain": [
       "<Figure size 432x288 with 1 Axes>"
      ]
     },
     "metadata": {
      "needs_background": "light"
     },
     "output_type": "display_data"
    }
   ],
   "source": [
    "y_pred = clf.predict(X_test)\n",
    "precision = precision_score(y_true=y_test, y_pred=y_pred)\n",
    "recall = recall_score(y_true=y_test, y_pred=y_pred)\n",
    "accuracy = accuracy_score(y_true=y_test, y_pred=y_pred)\n",
    "probability_y_is_1 = clf.predict_proba(X_test)[:, 1]\n",
    "auc = roc_auc_score(y_true=y_test, y_score=probability_y_is_1)\n",
    "print(f'precision={precision:.3}, recall={recall:.3}, accuracy={accuracy:.3}, auc={auc:.3}')\n",
    "probability_y_is_1 = clf.predict_proba(X_test)[:, 1]\n",
    "RocCurveDisplay.from_predictions(y_true=y_test, y_pred=probability_y_is_1)\n",
    "plt.show(block=False)"
   ]
  },
  {
   "cell_type": "code",
   "execution_count": 12,
   "id": "e3a4fa2b",
   "metadata": {},
   "outputs": [
    {
     "name": "stdout",
     "output_type": "stream",
     "text": [
      "precision=0.0, recall=0.0, accuracy=0.951, auc=0.5\n"
     ]
    },
    {
     "data": {
      "image/png": "[encoded data removed]",
      "text/plain": [
       "<Figure size 432x288 with 1 Axes>"
      ]
     },
     "metadata": {
      "needs_background": "light"
     },
     "output_type": "display_data"
    }
   ],
   "source": [
    "zeros = np.zeros(len(y_test))\n",
    "precision = precision_score(y_true=y_test, y_pred=zeros)\n",
    "recall = recall_score(y_true=y_test, y_pred=zeros)\n",
    "accuracy = accuracy_score(y_true=y_test, y_pred=zeros)\n",
    "probability_y_is_1 = zeros\n",
    "auc = roc_auc_score(y_true=y_test, y_score=zeros)\n",
    "print(f'precision={precision:.3}, recall={recall:.3}, accuracy={accuracy:.3}, auc={auc:.3}')\n",
    "probability_y_is_1 = clf.predict_proba(X_test)[:, 1]\n",
    "RocCurveDisplay.from_predictions(y_true=y_test, y_pred=zeros)\n",
    "plt.show(block=False)"
   ]
  },
  {
   "cell_type": "code",
   "execution_count": 13,
   "id": "769b6405",
   "metadata": {},
   "outputs": [
    {
     "data": {
      "text/html": [
       "<style>#sk-container-id-2 {color: black;background-color: white;}#sk-container-id-2 pre{padding: 0;}#sk-container-id-2 div.sk-toggleable {background-color: white;}#sk-container-id-2 label.sk-toggleable__label {cursor: pointer;display: block;width: 100%;margin-bottom: 0;padding: 0.3em;box-sizing: border-box;text-align: center;}#sk-container-id-2 label.sk-toggleable__label-arrow:before {content: \"▸\";float: left;margin-right: 0.25em;color: #696969;}#sk-container-id-2 label.sk-toggleable__label-arrow:hover:before {color: black;}#sk-container-id-2 div.sk-estimator:hover label.sk-toggleable__label-arrow:before {color: black;}#sk-container-id-2 div.sk-toggleable__content {max-height: 0;max-width: 0;overflow: hidden;text-align: left;background-color: #f0f8ff;}#sk-container-id-2 div.sk-toggleable__content pre {margin: 0.2em;color: black;border-radius: 0.25em;background-color: #f0f8ff;}#sk-container-id-2 input.sk-toggleable__control:checked~div.sk-toggleable__content {max-height: 200px;max-width: 100%;overflow: auto;}#sk-container-id-2 input.sk-toggleable__control:checked~label.sk-toggleable__label-arrow:before {content: \"▾\";}#sk-container-id-2 div.sk-estimator input.sk-toggleable__control:checked~label.sk-toggleable__label {background-color: #d4ebff;}#sk-container-id-2 div.sk-label input.sk-toggleable__control:checked~label.sk-toggleable__label {background-color: #d4ebff;}#sk-container-id-2 input.sk-hidden--visually {border: 0;clip: rect(1px 1px 1px 1px);clip: rect(1px, 1px, 1px, 1px);height: 1px;margin: -1px;overflow: hidden;padding: 0;position: absolute;width: 1px;}#sk-container-id-2 div.sk-estimator {font-family: monospace;background-color: #f0f8ff;border: 1px dotted black;border-radius: 0.25em;box-sizing: border-box;margin-bottom: 0.5em;}#sk-container-id-2 div.sk-estimator:hover {background-color: #d4ebff;}#sk-container-id-2 div.sk-parallel-item::after {content: \"\";width: 100%;border-bottom: 1px solid gray;flex-grow: 1;}#sk-container-id-2 div.sk-label:hover label.sk-toggleable__label {background-color: #d4ebff;}#sk-container-id-2 div.sk-serial::before {content: \"\";position: absolute;border-left: 1px solid gray;box-sizing: border-box;top: 0;bottom: 0;left: 50%;z-index: 0;}#sk-container-id-2 div.sk-serial {display: flex;flex-direction: column;align-items: center;background-color: white;padding-right: 0.2em;padding-left: 0.2em;position: relative;}#sk-container-id-2 div.sk-item {position: relative;z-index: 1;}#sk-container-id-2 div.sk-parallel {display: flex;align-items: stretch;justify-content: center;background-color: white;position: relative;}#sk-container-id-2 div.sk-item::before, #sk-container-id-2 div.sk-parallel-item::before {content: \"\";position: absolute;border-left: 1px solid gray;box-sizing: border-box;top: 0;bottom: 0;left: 50%;z-index: -1;}#sk-container-id-2 div.sk-parallel-item {display: flex;flex-direction: column;z-index: 1;position: relative;background-color: white;}#sk-container-id-2 div.sk-parallel-item:first-child::after {align-self: flex-end;width: 50%;}#sk-container-id-2 div.sk-parallel-item:last-child::after {align-self: flex-start;width: 50%;}#sk-container-id-2 div.sk-parallel-item:only-child::after {width: 0;}#sk-container-id-2 div.sk-dashed-wrapped {border: 1px dashed gray;margin: 0 0.4em 0.5em 0.4em;box-sizing: border-box;padding-bottom: 0.4em;background-color: white;}#sk-container-id-2 div.sk-label label {font-family: monospace;font-weight: bold;display: inline-block;line-height: 1.2em;}#sk-container-id-2 div.sk-label-container {text-align: center;}#sk-container-id-2 div.sk-container {/* jupyter's `normalize.less` sets `[hidden] { display: none; }` but bootstrap.min.css set `[hidden] { display: none !important; }` so we also need the `!important` here to be able to override the default hidden behavior on the sphinx rendered scikit-learn.org. See: https://github.com/scikit-learn/scikit-learn/issues/21755 */display: inline-block !important;position: relative;}#sk-container-id-2 div.sk-text-repr-fallback {display: none;}</style><div id=\"sk-container-id-2\" class=\"sk-top-container\"><div class=\"sk-text-repr-fallback\"><pre>GridSearchCV(estimator=GradientBoostingClassifier(),\n",
       "             param_grid=[{&#x27;learning_rate&#x27;: [0.01, 0.1, 0.25],\n",
       "                          &#x27;max_depth&#x27;: [1, 2, 3],\n",
       "                          &#x27;n_estimators&#x27;: (10, 25, 50, 100)}],\n",
       "             scoring=&#x27;recall&#x27;)</pre><b>In a Jupyter environment, please rerun this cell to show the HTML representation or trust the notebook. <br />On GitHub, the HTML representation is unable to render, please try loading this page with nbviewer.org.</b></div><div class=\"sk-container\" hidden><div class=\"sk-item sk-dashed-wrapped\"><div class=\"sk-label-container\"><div class=\"sk-label sk-toggleable\"><input class=\"sk-toggleable__control sk-hidden--visually\" id=\"sk-estimator-id-4\" type=\"checkbox\" ><label for=\"sk-estimator-id-4\" class=\"sk-toggleable__label sk-toggleable__label-arrow\">GridSearchCV</label><div class=\"sk-toggleable__content\"><pre>GridSearchCV(estimator=GradientBoostingClassifier(),\n",
       "             param_grid=[{&#x27;learning_rate&#x27;: [0.01, 0.1, 0.25],\n",
       "                          &#x27;max_depth&#x27;: [1, 2, 3],\n",
       "                          &#x27;n_estimators&#x27;: (10, 25, 50, 100)}],\n",
       "             scoring=&#x27;recall&#x27;)</pre></div></div></div><div class=\"sk-parallel\"><div class=\"sk-parallel-item\"><div class=\"sk-item\"><div class=\"sk-label-container\"><div class=\"sk-label sk-toggleable\"><input class=\"sk-toggleable__control sk-hidden--visually\" id=\"sk-estimator-id-5\" type=\"checkbox\" ><label for=\"sk-estimator-id-5\" class=\"sk-toggleable__label sk-toggleable__label-arrow\">estimator: GradientBoostingClassifier</label><div class=\"sk-toggleable__content\"><pre>GradientBoostingClassifier()</pre></div></div></div><div class=\"sk-serial\"><div class=\"sk-item\"><div class=\"sk-estimator sk-toggleable\"><input class=\"sk-toggleable__control sk-hidden--visually\" id=\"sk-estimator-id-6\" type=\"checkbox\" ><label for=\"sk-estimator-id-6\" class=\"sk-toggleable__label sk-toggleable__label-arrow\">GradientBoostingClassifier</label><div class=\"sk-toggleable__content\"><pre>GradientBoostingClassifier()</pre></div></div></div></div></div></div></div></div></div></div>"
      ],
      "text/plain": [
       "GridSearchCV(estimator=GradientBoostingClassifier(),\n",
       "             param_grid=[{'learning_rate': [0.01, 0.1, 0.25],\n",
       "                          'max_depth': [1, 2, 3],\n",
       "                          'n_estimators': (10, 25, 50, 100)}],\n",
       "             scoring='recall')"
      ]
     },
     "execution_count": 13,
     "metadata": {},
     "output_type": "execute_result"
    }
   ],
   "source": [
    "#mean imputation\n",
    "X = dummies.loc[:, dummies.columns != \"stroke\"]\n",
    "\n",
    "keyz = [2,3,4,8,9,14,24,26,28]\n",
    "gender = [12,13]\n",
    "married = [15,16]\n",
    "work = [17,18,19,20,21]\n",
    "resid = [22,23]\n",
    "        \n",
    "dummies[\"bmi_na\"] = dummies[\"bmi\"].isna()\n",
    "imp = SimpleImputer(missing_values=np.nan, strategy=\"mean\", fill_value=None)\n",
    "dummies.bmi = imp.fit_transform(dummies.bmi.to_numpy().reshape(-1, 1))   \n",
    "\n",
    "for var in [gender, married, work, resid]:\n",
    "    keyz.extend(random.sample(var,len(var)-1))   \n",
    "X = dummies[dummies.keys()[keyz]]\n",
    "\n",
    "# split 80% training data, 20% \"_tmp\" for validation & test\n",
    "X_train, X_tmp, y_train, y_tmp = train_test_split(X, y, test_size=.2,\n",
    "                                                  random_state=0, stratify=y)\n",
    "        # of remaining 20%, split in half to get 10% validation, 10% test\n",
    "X_valid, X_test, y_valid, y_test = train_test_split(X_tmp, y_tmp, test_size=.5,\n",
    "                                                  random_state=0, stratify=y_tmp)\n",
    "ros = RandomOverSampler(random_state=0)\n",
    "X_resampled, y_resampled = ros.fit_resample(X_train, y_train)\n",
    "\n",
    "clf = GridSearchCV(GradientBoostingClassifier(), parameters,scoring=\"recall\")\n",
    "clf.fit(X_resampled, y_resampled)"
   ]
  },
  {
   "cell_type": "code",
   "execution_count": 14,
   "id": "8e367d88",
   "metadata": {},
   "outputs": [
    {
     "name": "stdout",
     "output_type": "stream",
     "text": [
      "precision=0.116, recall=0.32, accuracy=0.847, auc=0.72\n"
     ]
    },
    {
     "data": {
      "image/png": "[encoded data removed]",
      "text/plain": [
       "<Figure size 432x288 with 1 Axes>"
      ]
     },
     "metadata": {
      "needs_background": "light"
     },
     "output_type": "display_data"
    }
   ],
   "source": [
    "y_pred = clf.predict(X_test)\n",
    "\n",
    "recall = recall_score(y_true=y_test, y_pred=y_pred)\n",
    "\n",
    "probability_y_is_1 = clf.predict_proba(X_test)[:, 1]\n",
    "auc = roc_auc_score(y_true=y_test, y_score=probability_y_is_1)\n",
    "print(f'precision={precision:.3}, recall={recall:.3}, accuracy={accuracy:.3}, auc={auc:.3}')\n",
    "probability_y_is_1 = clf.predict_proba(X_test)[:, 1]\n",
    "RocCurveDisplay.from_predictions(y_true=y_test, y_pred=probability_y_is_1)\n",
    "plt.show(block=False)"
   ]
  },
  {
   "cell_type": "code",
   "execution_count": 15,
   "id": "573c52f2",
   "metadata": {},
   "outputs": [
    {
     "name": "stdout",
     "output_type": "stream",
     "text": [
      "df:\n",
      "     0   1\n",
      "0  425  61\n",
      "1   17   8\n"
     ]
    }
   ],
   "source": [
    "M = confusion_matrix(y_true=y_test, y_pred=y_pred)\n",
    "df = pd.DataFrame(data=M)\n",
    "print(f'df:\\n{df}')"
   ]
  },
  {
   "cell_type": "code",
   "execution_count": 16,
   "id": "01986065",
   "metadata": {},
   "outputs": [
    {
     "data": {
      "image/png": "[encoded data removed]",
      "text/plain": [
       "<Figure size 432x288 with 1 Axes>"
      ]
     },
     "metadata": {
      "needs_background": "light"
     },
     "output_type": "display_data"
    }
   ],
   "source": [
    "clf = GradientBoostingClassifier(learning_rate=0.25, max_depth=3, n_estimators=150)\n",
    "clf.fit(X_resampled, y_resampled)\n",
    "importance = dict({\"Keys\":X_train.keys(), \"Score\":clf.feature_importances_})\n",
    "plt.bar(importance[\"Keys\"] , importance[\"Score\"])\n",
    "plt.xticks(rotation = 45)\n",
    "plt.title(\"GradientBoost Importance Scores\")\n",
    "plt.ylabel(\"Feature Importance\")\n",
    "plt.show()"
   ]
  },
  {
   "cell_type": "code",
   "execution_count": 17,
   "id": "8ce45b4e",
   "metadata": {},
   "outputs": [
    {
     "data": {
      "text/plain": [
       "Index(['age', 'hypertension', 'heart_disease', 'avg_glucose_level', 'bmi',\n",
       "       'gender_Other', 'smoking_status_Unknown', 'smoking_status_never smoked',\n",
       "       'bmi_na', 'gender_Male', 'ever_married_No', 'work_type_Self-employed',\n",
       "       'work_type_children', 'work_type_Never_worked', 'work_type_Private',\n",
       "       'Residence_type_Urban'],\n",
       "      dtype='object')"
      ]
     },
     "execution_count": 17,
     "metadata": {},
     "output_type": "execute_result"
    }
   ],
   "source": [
    "X_train.keys()"
   ]
  },
  {
   "cell_type": "code",
   "execution_count": 18,
   "id": "cfe8734c",
   "metadata": {},
   "outputs": [
    {
     "data": {
      "text/plain": [
       "{'Keys': Index(['age', 'hypertension', 'heart_disease', 'avg_glucose_level', 'bmi',\n",
       "        'gender_Other', 'smoking_status_Unknown', 'smoking_status_never smoked',\n",
       "        'bmi_na', 'gender_Male', 'ever_married_No', 'work_type_Self-employed',\n",
       "        'work_type_children', 'work_type_Never_worked', 'work_type_Private',\n",
       "        'Residence_type_Urban'],\n",
       "       dtype='object'),\n",
       " 'Score': array([0.58842868, 0.0136505 , 0.00967682, 0.18024618, 0.14240669,\n",
       "        0.        , 0.00927234, 0.03224496, 0.        , 0.00473897,\n",
       "        0.00493423, 0.008517  , 0.        , 0.        , 0.00483092,\n",
       "        0.00105272])}"
      ]
     },
     "execution_count": 18,
     "metadata": {},
     "output_type": "execute_result"
    }
   ],
   "source": [
    "importance"
   ]
  },
  {
   "cell_type": "code",
   "execution_count": 38,
   "id": "47647a8b",
   "metadata": {},
   "outputs": [
    {
     "name": "stdout",
     "output_type": "stream",
     "text": [
      "Logistic Regression:\n",
      "Accuracy Score =0.72, clf.best_params_={'C': 0.36}\n"
     ]
    }
   ],
   "source": [
    "# split 80% training data, 20% \"_tmp\" for validation & test\n",
    "X_train, X_tmp, y_train, y_tmp = train_test_split(X, y, test_size=.2,\n",
    "                                                  random_state=0, stratify=y)\n",
    "        # of remaining 20%, split in half to get 10% validation, 10% test\n",
    "X_valid, X_test, y_valid, y_test = train_test_split(X_tmp, y_tmp, test_size=.5,\n",
    "                                                  random_state=0, stratify=y_tmp)\n",
    "ros = RandomOverSampler(random_state=0)\n",
    "X_resampled, y_resampled = ros.fit_resample(X_train, y_train)\n",
    "\n",
    "parameters = {'C':np.linspace(0, 1, 101)}\n",
    "svc = linear_model.LogisticRegression(penalty='l1', solver='liblinear', fit_intercept=True, max_iter=1000)\n",
    "clf = GridSearchCV(svc, parameters, scoring = 'recall')\n",
    "clf.fit(X_resampled, y_resampled)\n",
    "print(\"Logistic Regression:\")\n",
    "print(f'Accuracy Score ={clf.score(X_test, y_test):.3}, ' +\n",
    "      f'clf.best_params_={clf.best_params_}')"
   ]
  },
  {
   "cell_type": "code",
   "execution_count": 20,
   "id": "4b31f668",
   "metadata": {},
   "outputs": [],
   "source": [
    "# split 80% training data, 20% \"_tmp\" for validation & test\n",
    "X_train, X_tmp, y_train, y_tmp = train_test_split(X, y, test_size=.2,\n",
    "                                                  random_state=0, stratify=y)\n",
    "        # of remaining 20%, split in half to get 10% validation, 10% test\n",
    "X_valid, X_test, y_valid, y_test = train_test_split(X_tmp, y_tmp, test_size=.5,\n",
    "                                                  random_state=0, stratify=y_tmp)\n",
    "ros = RandomOverSampler(random_state=0)\n",
    "X_resampled, y_resampled = ros.fit_resample(X_train, y_train)"
   ]
  },
  {
   "cell_type": "code",
   "execution_count": 37,
   "id": "a261c506",
   "metadata": {},
   "outputs": [
    {
     "name": "stdout",
     "output_type": "stream",
     "text": [
      "[[ 0.07633168  0.58700604  0.40204471  0.00521105 -0.0331756   0.\n",
      "  -0.31544532 -0.24721389  0.          0.10092928 -0.16065339  0.\n",
      "  -0.14761417  0.          0.50307377 -0.09053988]]\n",
      "recall=0.72, auc=0.824, 0.7690802348336595, 0.13953488372093023\n"
     ]
    },
    {
     "data": {
      "image/png": "[encoded data removed]",
      "text/plain": [
       "<Figure size 432x288 with 1 Axes>"
      ]
     },
     "metadata": {
      "needs_background": "light"
     },
     "output_type": "display_data"
    }
   ],
   "source": [
    "LR = linear_model.LogisticRegression(C=.26, penalty='l1', solver='liblinear', fit_intercept=True, max_iter=1000)\n",
    "LR.fit(X_resampled, y_resampled)\n",
    "y_hat = LR.predict(X_test)\n",
    "precision = precision_score(y_true=y_test, y_pred=y_hat)\n",
    "accuracy = accuracy_score(y_true=y_test, y_pred=y_hat)\n",
    "recall = recall_score(y_true=y_test, y_pred=y_hat)\n",
    "probability_y_is_1 = LR.predict_proba(X_test)[:, 1]\n",
    "auc = roc_auc_score(y_true=y_test, y_score=probability_y_is_1)\n",
    "\n",
    "print(LR.coef_)\n",
    "\n",
    "print(f'recall={recall:.3}, auc={auc:.3}, {accuracy}, {precision}')\n",
    "\n",
    "RocCurveDisplay.from_estimator(LR, X_test, y_test)\n",
    "plt.plot([0, 1], [0, 1], ':k', label='merely guessing')\n",
    "plt.title('ROC curve for LASSO')\n",
    "plt.legend()\n",
    "plt.show()"
   ]
  },
  {
   "cell_type": "code",
   "execution_count": null,
   "id": "d2ba91de",
   "metadata": {},
   "outputs": [],
   "source": []
  }
 ],
 "metadata": {
  "kernelspec": {
   "display_name": "Python 3 (ipykernel)",
   "language": "python",
   "name": "python3"
  },
  "language_info": {
   "codemirror_mode": {
    "name": "ipython",
    "version": 3
   },
   "file_extension": ".py",
   "mimetype": "text/x-python",
   "name": "python",
   "nbconvert_exporter": "python",
   "pygments_lexer": "ipython3",
   "version": "3.9.12"
  }
 },
 "nbformat": 4,
 "nbformat_minor": 5
}
