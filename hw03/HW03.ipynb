{
 "cells": [
  {
   "cell_type": "markdown",
   "id": "8163daf4",
   "metadata": {},
   "source": [
    "### HW03: Practice with SVM, kNN, gradient descent, feature engineering\n",
    "\n",
    "Sean Wells smwells3"
   ]
  },
  {
   "cell_type": "markdown",
   "id": "4fdedd9b",
   "metadata": {},
   "source": [
    "### Hello Students:\n",
    "\n",
    "- Start by downloading HW03.ipynb from this folder. Then develop it into your solution.\n",
    "- Write code where you see \"... your code here ...\" below.\n",
    "  (You are welcome to use more than one cell.)\n",
    "- If you have questions, please ask them in class, office hours, or piazza. Our TA\n",
    "  and I are very happy to help with the programming (provided you start early\n",
    "  enough, and provided we are not helping so much that we undermine your learning).\n",
    "- When you are done, run these Notebook commands:\n",
    "  - Shift-L (once, so that line numbers are visible)\n",
    "  - Kernel > Restart and Run All (run all cells from scratch)\n",
    "  - Esc S (save)\n",
    "  - File > Download as > HTML\n",
    "- Turn in:\n",
    "  - HW03.ipynb to Canvas's HW03.ipynb assignment\n",
    "  - HW03.html to Canvas's HW03.html assignment\n",
    "  - As a check, download your files from Canvas to a new 'junk' folder. Try 'Kernel > Restart\n",
    "  and Run All' on the '.ipynb' file to make sure it works. Glance through the '.html' file.\n",
    "- Turn in partial solutions to Canvas before the deadline. e.g. Turn in part 1,\n",
    "  then parts 1 and 2, then your whole solution. That way we can award partial credit\n",
    "  even if you miss the deadline. We will grade your last submission before the deadline."
   ]
  },
  {
   "cell_type": "code",
   "execution_count": 1,
   "id": "f6a87448",
   "metadata": {},
   "outputs": [],
   "source": [
    "import pandas as pd\n",
    "import numpy as np\n",
    "from io import StringIO\n",
    "from sklearn import svm\n",
    "import matplotlib.pyplot as plt\n",
    "from sklearn.tree import DecisionTreeClassifier, export_text\n",
    "from sklearn.neighbors import KNeighborsClassifier\n",
    "from sklearn.preprocessing import StandardScaler\n",
    "# ... your code here ... (import statements)"
   ]
  },
  {
   "cell_type": "markdown",
   "id": "f90946b9",
   "metadata": {},
   "source": [
    "# 1. Visualize classifier decision boundaries."
   ]
  },
  {
   "cell_type": "markdown",
   "id": "69ca3839",
   "metadata": {},
   "source": [
    "## 1a. Complete the function in the next cell that plots a classifier's decision boundary.\n",
    "Hint: My solution used 9 lines:\n",
    "- Make linspaces of grid_resolution points in xlim and grid_resolution points in ylim.\n",
    "  e.g. For xlim=(-1, 1), ylim=(0, 2) and grid_resolution=3, make the linspace\n",
    "  (-1, 0, 1) of x coordinates and the linspace (0, 1, 2) of y coordinates.\n",
    "- Use np.tile() to repeat the x grid points grid_resolution times\n",
    "  (e.g. (-1, 0, 1, -1, 0, 1, -1, 0, 1)) and np.repeat() to repeat each of the y grid\n",
    "  points grid_resolution times (e.g. (0, 0, 0, 1, 1, 1, 2, 2, 2)).\n",
    "- Use np.stack() to combine the x grid points and y grid points into a 2D array of\n",
    "  size grid_resolution$^2$ x 2. (e.g.\n",
    "  [[-1, 0],\n",
    "   [0, 0],\n",
    "   [1, 0],\n",
    "   [-1, 1],\n",
    "   [0, 1],\n",
    "   [1, 1],\n",
    "   [-1, 2],\n",
    "   [0, 2],\n",
    "   [1, 2]]\n",
    "  )\n",
    "- Make a dictionary keyed by -1 and 1 with values 'pink' and 'lightskyblue'.\n",
    "- Use clf.predict() on the 2D array of points to get predicted y values.\n",
    "- For each y in {-1, 1}, use plt.plot() to plot those points in your 2D array\n",
    "  with that predicted y value in the color specified by your dictionary."
   ]
  },
  {
   "cell_type": "code",
   "execution_count": 16,
   "id": "248a1006",
   "metadata": {},
   "outputs": [],
   "source": [
    "def plot_decision_boundary(clf, xlim, ylim, grid_resolution):\n",
    "    \"\"\"Display how clf classifies each point in the space specified by xlim and ylim.\n",
    "    \n",
    "    - clf is a classifier (already fit to data).\n",
    "    - xlim and ylim are each 2-tuples of the form (low, high).\n",
    "    - grid_resolution specifies the number of points into which the xlim is divided\n",
    "      and the number into which the ylim interval is divided. The function plots\n",
    "      grid_resolution * grid_resolution points.\"\"\"\n",
    "\n",
    "    # ... your code here ...\n",
    "    xplot = np.linspace(start=xlim[0], stop=xlim[1], num=grid_resolution)\n",
    "    yplot = np.linspace(start=ylim[0], stop=ylim[1], num=grid_resolution)\n",
    "    xpoints = np.tile(xplot, reps=grid_resolution)\n",
    "    ypoints = sorted(np.tile(yplot, reps=grid_resolution))\n",
    "    stack = np.stack(arrays=(xpoints, ypoints), axis=1)\n",
    "    predy = clf.predict(stack)\n",
    "    colorcode = dict({0: \"pink\", 1: \"lightskyblue\"})\n",
    "    plt.scatter(x=stack[predy == -1][:,0], y=stack[predy == -1][:,1], color=colorcode[0])\n",
    "    plt.scatter(x=stack[predy == 1][:,0], y=stack[predy == 1][:,1], color=colorcode[1])"
   ]
  },
  {
   "cell_type": "markdown",
   "id": "bac5562e",
   "metadata": {},
   "source": [
    "## Visualize the decision boundary for an SVM.\n",
    "Here I have provided test code for your function to visualize the decision boundary for the SVM\n",
    "under the header \"Now try 2D toy data\" inhttps://pages.stat.wisc.edu/~jgillett/451/burkov/01/01separatingHyperplane.html.\n",
    "\n",
    "Recall: That SVM's decision boundary was $y = -x + \\frac{1}{2}$, so your function should make a plot with lightskyblue above that line and pink below that line. Then my code adds the data points in blue and red.\n",
    "\n",
    "There is nothing for you to do in this step, provided you implemented the required function above.\n",
    "\n",
    "Note: It is ok if you get a warning about calling clf.fit() on input that does not have feature names. (I haven't figured out a satisfactory way to design the function to exclude this warning easily.)"
   ]
  },
  {
   "cell_type": "code",
   "execution_count": 17,
   "id": "c214c15a",
   "metadata": {},
   "outputs": [
    {
     "name": "stderr",
     "output_type": "stream",
     "text": [
      "/Users/seanwells/opt/anaconda3/lib/python3.9/site-packages/sklearn/base.py:450: UserWarning: X does not have valid feature names, but SVC was fitted with feature names\n",
      "  warnings.warn(\n"
     ]
    },
    {
     "data": {
      "image/png": "[encoded data removed]",
      "text/plain": [
       "<Figure size 432x288 with 1 Axes>"
      ]
     },
     "metadata": {
      "needs_background": "light"
     },
     "output_type": "display_data"
    }
   ],
   "source": [
    "data_string = \"\"\"\n",
    "x0, x1,  y\n",
    " 0,  0, -1\n",
    "-1,  1, -1\n",
    " 1, -1, -1\n",
    " 0,  1,  1\n",
    " 1,  1,  1\n",
    " 1,  0,  1\n",
    "\"\"\"\n",
    "df = pd.read_csv(StringIO(data_string), sep='\\s*,\\s+', engine='python')\n",
    "clf = svm.SVC(kernel=\"linear\", C=1000)\n",
    "clf.fit(df[['x0', 'x1']], df['y'])\n",
    "\n",
    "# Call student's function.\n",
    "plot_decision_boundary(clf=clf, xlim=(-4, 4), ylim=(-4, 4), grid_resolution=100)\n",
    "# Add training examples to plot.\n",
    "colors = {-1:'red', 1:'blue'}\n",
    "for y in (-1, 1):\n",
    "    plt.plot(df.x0[df.y == y], df.x1[df.y == y], '.', color=colors[y])"
   ]
  },
  {
   "cell_type": "markdown",
   "id": "e042c87d",
   "metadata": {},
   "source": [
    "## 1b. Visualize the decision boundary for a decision tree.\n",
    "- Make a decision tree classifier on the same df used above.\n",
    "  (Use criterion='entropy', max_depth=None, random_state=0.)\n",
    "- Use print(export_text()) to print a text version of your tree.\n",
    "- Copy the last few lines of the cell above to make the plot.\n",
    "- Study the tree and plot until you understand how the plot represents the decisions in the tree."
   ]
  },
  {
   "cell_type": "code",
   "execution_count": 18,
   "id": "efd78209",
   "metadata": {
    "scrolled": false
   },
   "outputs": [
    {
     "name": "stdout",
     "output_type": "stream",
     "text": [
      "|--- feature_1 <= -0.50\n",
      "|   |--- class: -1\n",
      "|--- feature_1 >  -0.50\n",
      "|   |--- feature_0 <= 0.50\n",
      "|   |   |--- feature_0 <= -0.50\n",
      "|   |   |   |--- class: -1\n",
      "|   |   |--- feature_0 >  -0.50\n",
      "|   |   |   |--- feature_1 <= 0.50\n",
      "|   |   |   |   |--- class: -1\n",
      "|   |   |   |--- feature_1 >  0.50\n",
      "|   |   |   |   |--- class: 1\n",
      "|   |--- feature_0 >  0.50\n",
      "|   |   |--- class: 1\n",
      "\n"
     ]
    },
    {
     "name": "stderr",
     "output_type": "stream",
     "text": [
      "/Users/seanwells/opt/anaconda3/lib/python3.9/site-packages/sklearn/base.py:450: UserWarning: X does not have valid feature names, but DecisionTreeClassifier was fitted with feature names\n",
      "  warnings.warn(\n"
     ]
    },
    {
     "data": {
      "image/png": "[encoded data removed]",
      "text/plain": [
       "<Figure size 432x288 with 1 Axes>"
      ]
     },
     "metadata": {
      "needs_background": "light"
     },
     "output_type": "display_data"
    }
   ],
   "source": [
    "clf = DecisionTreeClassifier(criterion='entropy', max_depth=None, random_state=0)\n",
    "clf.fit(df[['x0', 'x1']], df['y'])\n",
    "print(export_text(clf))\n",
    "\n",
    "# Call student's function.\n",
    "plot_decision_boundary(clf=clf, xlim=(-4, 4), ylim=(-4, 4), grid_resolution=100)\n",
    "# Add training examples to plot.\n",
    "for y in (-1, 1):\n",
    "    plt.plot(df.x0[df.y == y], df.x1[df.y == y], '.', color=colors[y])"
   ]
  },
  {
   "cell_type": "markdown",
   "id": "4774c923",
   "metadata": {},
   "source": [
    "## 1c. Visualize the decision boundary for kNN with $k=3$.\n",
    "- Make a kNN classifier on the same df used above. (Use n_neighbors=3 and metric='euclidean'.)\n",
    "- Copy the plotting code again.\n",
    "\n",
    "(Experiment with $k=1$ and $k=2$ to see how the decision boundary varies with $k$ before setting $k=3$.)"
   ]
  },
  {
   "cell_type": "code",
   "execution_count": 5,
   "id": "de6876bc",
   "metadata": {},
   "outputs": [
    {
     "name": "stderr",
     "output_type": "stream",
     "text": [
      "/Users/seanwells/opt/anaconda3/lib/python3.9/site-packages/sklearn/base.py:450: UserWarning: X does not have valid feature names, but KNeighborsClassifier was fitted with feature names\n",
      "  warnings.warn(\n"
     ]
    },
    {
     "data": {
      "image/png": "[encoded data removed]",
      "text/plain": [
       "<Figure size 432x288 with 1 Axes>"
      ]
     },
     "metadata": {
      "needs_background": "light"
     },
     "output_type": "display_data"
    }
   ],
   "source": [
    "knn = KNeighborsClassifier(n_neighbors=3, metric='euclidean')\n",
    "knn.fit(df[['x0', 'x1']], df['y'])\n",
    "\n",
    "# Call student's function.\n",
    "plot_decision_boundary(clf=knn, xlim=(-4, 4), ylim=(-4, 4), grid_resolution=100)\n",
    "# Add training examples to plot.\n",
    "for y in (-1, 1):\n",
    "    plt.plot(df.x0[df.y == y], df.x1[df.y == y], '.', color=colors[y])"
   ]
  },
  {
   "cell_type": "markdown",
   "id": "9221e0d6",
   "metadata": {},
   "source": [
    "## 1d. Visualize the decision boundary for an SVM with a nonlinear boundary.\n",
    "Use the example under the header \"Nonlinear boundary: use kernel trick\" in https://pages.stat.wisc.edu/~jgillett/451/burkov/03/03SVM.html.\n",
    "- Read the data from http://www.stat.wisc.edu/~jgillett/451/data/circles.csv.\n",
    "  This \".csv\" file has y in {0, 1}, so change the 0 values to -1.\n",
    "- Fit an SVM with kernel='rbf', C=1, gamma=1/2.\n",
    "- Copy the last few lines of my plotting code, above, again (revising the axis limits) to make the boundary plot.\n",
    "\n",
    "(Experiment with $\\gamma = 2$, $\\gamma = 10$, and $\\gamma = 30$ to see how the decision boundary varies with gamma before setting gamma to 1/2.)"
   ]
  },
  {
   "cell_type": "code",
   "execution_count": 15,
   "id": "c8c242d6",
   "metadata": {},
   "outputs": [
    {
     "name": "stderr",
     "output_type": "stream",
     "text": [
      "/Users/seanwells/opt/anaconda3/lib/python3.9/site-packages/sklearn/base.py:450: UserWarning: X does not have valid feature names, but SVC was fitted with feature names\n",
      "  warnings.warn(\n"
     ]
    },
    {
     "ename": "KeyError",
     "evalue": "-1",
     "output_type": "error",
     "traceback": [
      "\u001b[0;31m---------------------------------------------------------------------------\u001b[0m",
      "\u001b[0;31mKeyError\u001b[0m                                  Traceback (most recent call last)",
      "Input \u001b[0;32mIn [15]\u001b[0m, in \u001b[0;36m<cell line: 7>\u001b[0;34m()\u001b[0m\n\u001b[1;32m      4\u001b[0m clf_RBF\u001b[38;5;241m.\u001b[39mfit(circles[[\u001b[38;5;124m\"\u001b[39m\u001b[38;5;124mx0\u001b[39m\u001b[38;5;124m\"\u001b[39m,\u001b[38;5;124m\"\u001b[39m\u001b[38;5;124mx1\u001b[39m\u001b[38;5;124m\"\u001b[39m]], circles[\u001b[38;5;124m\"\u001b[39m\u001b[38;5;124my\u001b[39m\u001b[38;5;124m\"\u001b[39m])\n\u001b[1;32m      5\u001b[0m \u001b[38;5;66;03m#plot\u001b[39;00m\n\u001b[1;32m      6\u001b[0m \u001b[38;5;66;03m# Call student's function.\u001b[39;00m\n\u001b[0;32m----> 7\u001b[0m \u001b[43mplot_decision_boundary\u001b[49m\u001b[43m(\u001b[49m\u001b[43mclf\u001b[49m\u001b[38;5;241;43m=\u001b[39;49m\u001b[43mclf_RBF\u001b[49m\u001b[43m,\u001b[49m\u001b[43m \u001b[49m\u001b[43mxlim\u001b[49m\u001b[38;5;241;43m=\u001b[39;49m\u001b[43m(\u001b[49m\u001b[38;5;241;43m-\u001b[39;49m\u001b[38;5;241;43m6\u001b[39;49m\u001b[43m,\u001b[49m\u001b[43m \u001b[49m\u001b[38;5;241;43m6\u001b[39;49m\u001b[43m)\u001b[49m\u001b[43m,\u001b[49m\u001b[43m \u001b[49m\u001b[43mylim\u001b[49m\u001b[38;5;241;43m=\u001b[39;49m\u001b[43m(\u001b[49m\u001b[38;5;241;43m-\u001b[39;49m\u001b[38;5;241;43m6\u001b[39;49m\u001b[43m,\u001b[49m\u001b[43m \u001b[49m\u001b[38;5;241;43m6\u001b[39;49m\u001b[43m)\u001b[49m\u001b[43m,\u001b[49m\u001b[43m \u001b[49m\u001b[43mgrid_resolution\u001b[49m\u001b[38;5;241;43m=\u001b[39;49m\u001b[38;5;241;43m100\u001b[39;49m\u001b[43m)\u001b[49m\n\u001b[1;32m      8\u001b[0m \u001b[38;5;66;03m# Add training examples to plot.\u001b[39;00m\n\u001b[1;32m      9\u001b[0m \u001b[38;5;28;01mfor\u001b[39;00m y \u001b[38;5;129;01min\u001b[39;00m (\u001b[38;5;241m0\u001b[39m, \u001b[38;5;241m1\u001b[39m):\n",
      "Input \u001b[0;32mIn [14]\u001b[0m, in \u001b[0;36mplot_decision_boundary\u001b[0;34m(clf, xlim, ylim, grid_resolution)\u001b[0m\n\u001b[1;32m     16\u001b[0m predy \u001b[38;5;241m=\u001b[39m clf\u001b[38;5;241m.\u001b[39mpredict(stack)\n\u001b[1;32m     17\u001b[0m colorcode \u001b[38;5;241m=\u001b[39m \u001b[38;5;28mdict\u001b[39m({\u001b[38;5;241m0\u001b[39m: \u001b[38;5;124m\"\u001b[39m\u001b[38;5;124mpink\u001b[39m\u001b[38;5;124m\"\u001b[39m, \u001b[38;5;241m1\u001b[39m: \u001b[38;5;124m\"\u001b[39m\u001b[38;5;124mlightskyblue\u001b[39m\u001b[38;5;124m\"\u001b[39m})\n\u001b[0;32m---> 18\u001b[0m plt\u001b[38;5;241m.\u001b[39mscatter(x\u001b[38;5;241m=\u001b[39mstack[predy \u001b[38;5;241m==\u001b[39m \u001b[38;5;241m-\u001b[39m\u001b[38;5;241m1\u001b[39m][:,\u001b[38;5;241m0\u001b[39m], y\u001b[38;5;241m=\u001b[39mstack[predy \u001b[38;5;241m==\u001b[39m \u001b[38;5;241m-\u001b[39m\u001b[38;5;241m1\u001b[39m][:,\u001b[38;5;241m1\u001b[39m], color\u001b[38;5;241m=\u001b[39m\u001b[43mcolorcode\u001b[49m\u001b[43m[\u001b[49m\u001b[38;5;241;43m-\u001b[39;49m\u001b[38;5;241;43m1\u001b[39;49m\u001b[43m]\u001b[49m)\n\u001b[1;32m     19\u001b[0m plt\u001b[38;5;241m.\u001b[39mscatter(x\u001b[38;5;241m=\u001b[39mstack[predy \u001b[38;5;241m==\u001b[39m \u001b[38;5;241m1\u001b[39m][:,\u001b[38;5;241m0\u001b[39m], y\u001b[38;5;241m=\u001b[39mstack[predy \u001b[38;5;241m==\u001b[39m \u001b[38;5;241m1\u001b[39m][:,\u001b[38;5;241m1\u001b[39m], color\u001b[38;5;241m=\u001b[39mcolorcode[\u001b[38;5;241m1\u001b[39m])\n",
      "\u001b[0;31mKeyError\u001b[0m: -1"
     ]
    }
   ],
   "source": [
    "circles = pd.read_csv(\"../circles.csv\")\n",
    "#model\n",
    "clf_RBF = svm.SVC(kernel='rbf', C=1, gamma=1)\n",
    "clf_RBF.fit(circles[[\"x0\",\"x1\"]], circles[\"y\"])\n",
    "#plot\n",
    "# Call student's function.\n",
    "plot_decision_boundary(clf=clf_RBF, xlim=(-6, 6), ylim=(-6, 6), grid_resolution=100)\n",
    "# Add training examples to plot.\n",
    "for y in (0, 1):\n",
    "    plt.plot(circles.x0[circles.y == y], circles.x1[circles.y == y], '.', color=colors[y])"
   ]
  },
  {
   "cell_type": "markdown",
   "id": "ad290199",
   "metadata": {},
   "source": [
    "## 2. Run gradient descent by hand.\n",
    "Run gradient descent with $\\alpha = 0.1$ to minimize $z = f(x, y)\n",
    "= (x + 1)^2 + (y + 2)^2$. Start at (0, 0) and find the next two points\n",
    "on the descent path.\n",
    "\n",
    "Hint: The minimum is at (-1, -2), so your answer should be approaching this point."
   ]
  },
  {
   "cell_type": "markdown",
   "id": "bfbb764e",
   "metadata": {},
   "source": [
    "| i | $x_i$ | $\\nabla fx_i$ | $-\\alpha \\nabla fx_i$ |\n",
    "| --- | --- | --- | --- |\n",
    "| 0 | (0,0) | (2,4) | (-0.2, -0.4) |\n",
    "| 1 | (-0.2, -0.4) | (1.6, 3.2) | (-0.16,-0.32) |\n",
    "| 2 | (-0.36, -0.72) | (1.28, 2.56) | (-0.128, -0.256) |"
   ]
  },
  {
   "cell_type": "markdown",
   "id": "c0099a3e",
   "metadata": {},
   "source": [
    "## 3. Practice feature engineering\n",
    "by exploring the fact that rescaling may be necessary for kNN but not for a decision tree."
   ]
  },
  {
   "cell_type": "markdown",
   "id": "b1a02dd0",
   "metadata": {},
   "source": [
    "### 3a. Read and plot a toy concentric ellipses data set.\n",
    "\n",
    "- Read the data from [http://www.stat.wisc.edu/~jgillett/451/data/ellipses.csv](http://www.stat.wisc.edu/~jgillett/451/data/ellipses.csv) into a DataFrame.\n",
    "- Display the first five rows.\n",
    "- Plot the data.\n",
    "  - Put x0 on the $x$ axis and x1 on the $y$ axis.\n",
    "  - Plot points with these colors:\n",
    "    - $y=0$: red\n",
    "    - $y=1$: blue\n",
    "  - Use $x$ and $y$ axis limits of $(-6, 6)$.\n",
    "  - Include a legend."
   ]
  },
  {
   "cell_type": "code",
   "execution_count": 7,
   "id": "667e2c7c",
   "metadata": {},
   "outputs": [
    {
     "data": {
      "text/html": [
       "<div>\n",
       "<style scoped>\n",
       "    .dataframe tbody tr th:only-of-type {\n",
       "        vertical-align: middle;\n",
       "    }\n",
       "\n",
       "    .dataframe tbody tr th {\n",
       "        vertical-align: top;\n",
       "    }\n",
       "\n",
       "    .dataframe thead th {\n",
       "        text-align: right;\n",
       "    }\n",
       "</style>\n",
       "<table border=\"1\" class=\"dataframe\">\n",
       "  <thead>\n",
       "    <tr style=\"text-align: right;\">\n",
       "      <th></th>\n",
       "      <th>x0</th>\n",
       "      <th>x1</th>\n",
       "      <th>y</th>\n",
       "    </tr>\n",
       "  </thead>\n",
       "  <tbody>\n",
       "    <tr>\n",
       "      <th>0</th>\n",
       "      <td>-1.937</td>\n",
       "      <td>-0.006</td>\n",
       "      <td>0</td>\n",
       "    </tr>\n",
       "    <tr>\n",
       "      <th>1</th>\n",
       "      <td>-1.622</td>\n",
       "      <td>-0.057</td>\n",
       "      <td>0</td>\n",
       "    </tr>\n",
       "    <tr>\n",
       "      <th>2</th>\n",
       "      <td>-0.791</td>\n",
       "      <td>-0.200</td>\n",
       "      <td>0</td>\n",
       "    </tr>\n",
       "    <tr>\n",
       "      <th>3</th>\n",
       "      <td>-0.614</td>\n",
       "      <td>-0.171</td>\n",
       "      <td>0</td>\n",
       "    </tr>\n",
       "    <tr>\n",
       "      <th>4</th>\n",
       "      <td>-0.490</td>\n",
       "      <td>-0.154</td>\n",
       "      <td>0</td>\n",
       "    </tr>\n",
       "  </tbody>\n",
       "</table>\n",
       "</div>"
      ],
      "text/plain": [
       "      x0     x1  y\n",
       "0 -1.937 -0.006  0\n",
       "1 -1.622 -0.057  0\n",
       "2 -0.791 -0.200  0\n",
       "3 -0.614 -0.171  0\n",
       "4 -0.490 -0.154  0"
      ]
     },
     "metadata": {},
     "output_type": "display_data"
    }
   ],
   "source": [
    "ellipses = pd.read_csv(\"ellipses.csv\")\n",
    "display(ellipses[:5])"
   ]
  },
  {
   "cell_type": "code",
   "execution_count": 8,
   "id": "87b5bd24",
   "metadata": {},
   "outputs": [
    {
     "data": {
      "text/plain": [
       "Text(0.5, 1.0, 'Ellipse classification')"
      ]
     },
     "execution_count": 8,
     "metadata": {},
     "output_type": "execute_result"
    },
    {
     "data": {
      "image/png": "[encoded data removed]",
      "text/plain": [
       "<Figure size 432x288 with 1 Axes>"
      ]
     },
     "metadata": {
      "needs_background": "light"
     },
     "output_type": "display_data"
    }
   ],
   "source": [
    "colors = {0:'red', 1:'blue'}\n",
    "for y in (0, 1):\n",
    "    plt.plot(ellipses.x0[ellipses.y == y], ellipses.x1[ellipses.y == y], '.', color=colors[y], label=y)\n",
    "plt.legend()\n",
    "plt.xlabel('x0')\n",
    "plt.ylabel('x1')\n",
    "plt.xlim(-6,6)\n",
    "plt.ylim(-6,6)\n",
    "plt.title('Ellipse classification')"
   ]
  },
  {
   "cell_type": "markdown",
   "id": "dbea1c92",
   "metadata": {},
   "source": [
    "### 3b. Train a $k$NN classifier and report its accuracy.\n",
    "- Use $k = 3$ and the (default) euclidean metric.\n",
    "- Report the accuracy on the training data by writing a line like `Training accuracy is 0.500`\n",
    "  (0.500 may not be correct)."
   ]
  },
  {
   "cell_type": "code",
   "execution_count": 9,
   "id": "a890db07",
   "metadata": {},
   "outputs": [
    {
     "name": "stdout",
     "output_type": "stream",
     "text": [
      "The training accuracy of the unscaled kNN model is 0.725.\n"
     ]
    }
   ],
   "source": [
    "knn = KNeighborsClassifier(n_neighbors=3, metric='euclidean')\n",
    "knn.fit(ellipses[['x0', 'x1']], ellipses['y'])\n",
    "print(f\"The training accuracy of the unscaled kNN model is {knn.score(ellipses[['x0', 'x1']], ellipses['y'])}.\")"
   ]
  },
  {
   "cell_type": "markdown",
   "id": "70e61223",
   "metadata": {},
   "source": [
    "### 3c. Now rescale the features using standardization; plot, train, and report accuracy again.\n",
    "- Fit the scaler to the training features.\n",
    "- Transform the training features.\n",
    "- Plot the rescaled data.\n",
    "- Train kNN again and report its accuracy as before. (Notice that rescaling helped.)"
   ]
  },
  {
   "cell_type": "code",
   "execution_count": 10,
   "id": "391fb96d",
   "metadata": {},
   "outputs": [
    {
     "name": "stdout",
     "output_type": "stream",
     "text": [
      "The training accuracy of the scaled kNN model is 1.0.\n"
     ]
    }
   ],
   "source": [
    "ss = StandardScaler()\n",
    "std = ss.fit_transform(ellipses[[\"x0\", \"x1\"]])\n",
    "knn = KNeighborsClassifier(n_neighbors=3, metric='euclidean')\n",
    "knn.fit(std, ellipses['y'])\n",
    "print(f\"The training accuracy of the scaled kNN model is {knn.score(std, ellipses['y'])}.\")"
   ]
  },
  {
   "cell_type": "markdown",
   "id": "dbc60b17",
   "metadata": {},
   "source": [
    "### 3d. Train a decision tree classifier on the original (unscaled) data and report its accuracy.\n",
    "- Train on the training data.\n",
    "- Report the accuracy as before."
   ]
  },
  {
   "cell_type": "code",
   "execution_count": 11,
   "id": "cfd5563e",
   "metadata": {},
   "outputs": [
    {
     "name": "stdout",
     "output_type": "stream",
     "text": [
      "The score of the unscaled decision tree classifier is 1.0.\n"
     ]
    }
   ],
   "source": [
    "clf = DecisionTreeClassifier(criterion='entropy', max_depth=None, random_state=0)\n",
    "clf.fit(ellipses[['x0', 'x1']], ellipses['y'])\n",
    "print(f\"The score of the unscaled decision tree classifier is {clf.score(ellipses[['x0', 'x1']], ellipses['y'])}.\")"
   ]
  },
  {
   "cell_type": "markdown",
   "id": "797b8763",
   "metadata": {},
   "source": [
    "### 3e. Why is feature scaling unnecessary for an ID3 decision tree? Answer in a markdown cell."
   ]
  },
  {
   "cell_type": "markdown",
   "id": "e8de25a3",
   "metadata": {},
   "source": [
    "Decision trees partition observations based on thresholds which places less emphasis on scale or magnitude. They also evaluate a single variable at a time meaning interaction effects and, again, scale/magnitude between variables don't matter."
   ]
  }
 ],
 "metadata": {
  "celltoolbar": "Tags",
  "kernelspec": {
   "display_name": "Python 3 (ipykernel)",
   "language": "python",
   "name": "python3"
  },
  "language_info": {
   "codemirror_mode": {
    "name": "ipython",
    "version": 3
   },
   "file_extension": ".py",
   "mimetype": "text/x-python",
   "name": "python",
   "nbconvert_exporter": "python",
   "pygments_lexer": "ipython3",
   "version": "3.9.12"
  }
 },
 "nbformat": 4,
 "nbformat_minor": 5
}
